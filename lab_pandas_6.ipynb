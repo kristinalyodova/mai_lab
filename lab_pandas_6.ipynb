{
  "nbformat": 4,
  "nbformat_minor": 0,
  "metadata": {
    "colab": {
      "name": "lab_pandas_6.ipynb",
      "provenance": []
    },
    "kernelspec": {
      "name": "python3",
      "display_name": "Python 3"
    }
  },
  "cells": [
    {
      "cell_type": "markdown",
      "metadata": {
        "id": "kaK9eUR9pCi2"
      },
      "source": [
        "# Московский авиационный институт (Национальный исследовательский университет)\n",
        "## Лабораторная работа №7\n",
        "## \"Pandas\"\n",
        "### Выполнила: студентка группы Т12О-101М-20\n",
        "### Лёдова Кристина Владимировна\n",
        "### Преподаватель: Поповкин Александр Викторович¶\n",
        "### Москва\n",
        "### 2020 г.\n"
      ]
    },
    {
      "cell_type": "code",
      "metadata": {
        "id": "NUnL_Lt7pVDN"
      },
      "source": [
        "import numpy as np\n",
        "import pandas as pd\n",
        "from pandas import Series, DataFrame\n",
        "from math import sqrt"
      ],
      "execution_count": null,
      "outputs": []
    },
    {
      "cell_type": "markdown",
      "metadata": {
        "id": "uU6XwESYpVnG"
      },
      "source": [
        " 1.Найти евклидово расстоняие между двумя объектами Series"
      ]
    },
    {
      "cell_type": "code",
      "metadata": {
        "colab": {
          "base_uri": "https://localhost:8080/"
        },
        "id": "XgqhgMmnpYO9",
        "outputId": "bbb4c9d6-ee46-43be-cf11-344c67103dcd"
      },
      "source": [
        "a = pd.Series(np.random.randint(1, 10, [3]))\n",
        "b = pd.Series(np.random.randint(1, 10, [3]))\n",
        "evk = sqrt(sum((a-b)**2))\n",
        "print(a,'\\n')\n",
        "print(b,'\\n')\n",
        "print(evk)"
      ],
      "execution_count": null,
      "outputs": [
        {
          "output_type": "stream",
          "text": [
            "0    8\n",
            "1    1\n",
            "2    9\n",
            "dtype: int64 \n",
            "\n",
            "0    6\n",
            "1    7\n",
            "2    1\n",
            "dtype: int64 \n",
            "\n",
            "10.198039027185569\n"
          ],
          "name": "stdout"
        }
      ]
    },
    {
      "cell_type": "markdown",
      "metadata": {
        "id": "-xwgRTh7qghO"
      },
      "source": [
        "2.Найти индексы локальных максимумов в объекте Series"
      ]
    },
    {
      "cell_type": "code",
      "metadata": {
        "colab": {
          "base_uri": "https://localhost:8080/"
        },
        "id": "XDAbLWoiqnf9",
        "outputId": "e1a4176e-bfb6-4867-c9b3-94e20adf5b6f"
      },
      "source": [
        "s = pd.Series([1, 3, 7, 12, 8, 10, 9])\n",
        "dd = np.diff(np.sign(np.diff(s)))\n",
        "index = np.where(dd == -2)[0] + 1\n",
        "print(index)"
      ],
      "execution_count": null,
      "outputs": [
        {
          "output_type": "stream",
          "text": [
            "[3 5]\n"
          ],
          "name": "stdout"
        }
      ]
    },
    {
      "cell_type": "markdown",
      "metadata": {
        "id": "ME8I97nXuwoG"
      },
      "source": [
        "3.Заменить пробелы наименее часто встречающимся символом"
      ]
    },
    {
      "cell_type": "code",
      "metadata": {
        "colab": {
          "base_uri": "https://localhost:8080/",
          "height": 256
        },
        "id": "iReGu-8QuzxV",
        "outputId": "99a19adb-882c-4afe-8754-3072902912ac"
      },
      "source": [
        "sentence = 'one two three four five'\n",
        "s = pd.Series(list(sentence))\n",
        "f = s.value_counts()\n",
        "\n",
        "print(s.value_counts()) \n",
        "('').join(s.replace(' ', f.index[-1]))"
      ],
      "execution_count": null,
      "outputs": [
        {
          "output_type": "stream",
          "text": [
            "     4\n",
            "e    4\n",
            "o    3\n",
            "r    2\n",
            "f    2\n",
            "t    2\n",
            "n    1\n",
            "w    1\n",
            "h    1\n",
            "u    1\n",
            "v    1\n",
            "i    1\n",
            "dtype: int64\n"
          ],
          "name": "stdout"
        },
        {
          "output_type": "execute_result",
          "data": {
            "application/vnd.google.colaboratory.intrinsic+json": {
              "type": "string"
            },
            "text/plain": [
              "'oneitwoithreeifourifive'"
            ]
          },
          "metadata": {
            "tags": []
          },
          "execution_count": 20
        }
      ]
    },
    {
      "cell_type": "markdown",
      "metadata": {
        "id": "rexWwti8xRSW"
      },
      "source": [
        "4.Создать объект Series, который содержит в индексах даты выходных дней субботы, а в значениях - случайные числа от 1 до 10"
      ]
    },
    {
      "cell_type": "code",
      "metadata": {
        "colab": {
          "base_uri": "https://localhost:8080/"
        },
        "id": "pyYXyQ2NxYL3",
        "outputId": "205e0210-7579-4fad-8783-3b82fd4109f5"
      },
      "source": [
        "s = pd.Series(np.random.randint(1, 10 ,[10]), pd.date_range('2020-01-01', periods=10, freq='W-SAT'))\n",
        "print(s)"
      ],
      "execution_count": null,
      "outputs": [
        {
          "output_type": "stream",
          "text": [
            "2020-01-04    6\n",
            "2020-01-11    1\n",
            "2020-01-18    2\n",
            "2020-01-25    9\n",
            "2020-02-01    3\n",
            "2020-02-08    4\n",
            "2020-02-15    5\n",
            "2020-02-22    3\n",
            "2020-02-29    3\n",
            "2020-03-07    2\n",
            "Freq: W-SAT, dtype: int64\n"
          ],
          "name": "stdout"
        }
      ]
    },
    {
      "cell_type": "markdown",
      "metadata": {
        "id": "VBAOEgxkxyik"
      },
      "source": [
        "5.Заполнить пропущенные даты"
      ]
    },
    {
      "cell_type": "code",
      "metadata": {
        "colab": {
          "base_uri": "https://localhost:8080/"
        },
        "id": "WtWIhPDUx2Yl",
        "outputId": "c6a23fcd-d28a-4da3-91cd-6b52225264db"
      },
      "source": [
        "s = pd.Series([1, 3, 5, 7], pd.to_datetime(['2020-01-01', '2020-01-03', '2020-01-05','2020-01-07']))\n",
        "print(s)\n",
        "\n",
        "new = s.resample('D').ffill()\n",
        "print(new)"
      ],
      "execution_count": null,
      "outputs": [
        {
          "output_type": "stream",
          "text": [
            "2020-01-01    1\n",
            "2020-01-03    3\n",
            "2020-01-05    5\n",
            "2020-01-07    7\n",
            "dtype: int64\n",
            "2020-01-01    1\n",
            "2020-01-02    1\n",
            "2020-01-03    3\n",
            "2020-01-04    3\n",
            "2020-01-05    5\n",
            "2020-01-06    5\n",
            "2020-01-07    7\n",
            "Freq: D, dtype: int64\n"
          ],
          "name": "stdout"
        }
      ]
    },
    {
      "cell_type": "markdown",
      "metadata": {
        "id": "aeClvq_3y7-_"
      },
      "source": [
        "6.Вычислить автокорреляцию объекта Series"
      ]
    },
    {
      "cell_type": "code",
      "metadata": {
        "colab": {
          "base_uri": "https://localhost:8080/"
        },
        "id": "f-jKR5uXzAIl",
        "outputId": "0537c15f-0c60-43ba-ac4b-7b10c839f7cd"
      },
      "source": [
        "s = pd.Series([0.1, 0.5, 0.25, -0.1])\n",
        "s.autocorr()"
      ],
      "execution_count": null,
      "outputs": [
        {
          "output_type": "execute_result",
          "data": {
            "text/plain": [
              "-0.2805062692433372"
            ]
          },
          "metadata": {
            "tags": []
          },
          "execution_count": 30
        }
      ]
    }
  ]
}