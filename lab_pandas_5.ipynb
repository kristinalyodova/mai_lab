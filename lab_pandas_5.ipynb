{
  "nbformat": 4,
  "nbformat_minor": 0,
  "metadata": {
    "colab": {
      "name": "lab_pandas_5.ipynb",
      "provenance": []
    },
    "kernelspec": {
      "name": "python3",
      "display_name": "Python 3"
    }
  },
  "cells": [
    {
      "cell_type": "markdown",
      "metadata": {
        "id": "K2SqIDs10ioo"
      },
      "source": [
        "# Московский авиационный институт (Национальный исследовательский университет)\r\n",
        "## Лабораторная работа №5\r\n",
        "## \"Pandas\"\r\n",
        "### Выполнила: студентка группы Т12О-101М-20\r\n",
        "### Лёдова Кристина Владимировна\r\n",
        "### Преподаватель: Поповкин Александр Викторович\r\n",
        "### Москва\r\n",
        "### 2020 г."
      ]
    },
    {
      "cell_type": "code",
      "metadata": {
        "id": "IiUGn6Dv2M4O"
      },
      "source": [
        "import numpy as np\n",
        "from pandas import Series, DataFrame\n",
        "import pandas as pd"
      ],
      "execution_count": null,
      "outputs": []
    },
    {
      "cell_type": "markdown",
      "metadata": {
        "id": "g6Tkr4ic0o13"
      },
      "source": [
        "1.Получить от объекта Series показатели описательной статистики\n"
      ]
    },
    {
      "cell_type": "code",
      "metadata": {
        "colab": {
          "base_uri": "https://localhost:8080/"
        },
        "id": "JDwqooUY2gtf",
        "outputId": "fc9cd832-6b6d-4c8d-884f-6a6190e4eda2"
      },
      "source": [
        "a = np.arange(10)\n",
        "s = Series(a)\n",
        "statistics = s.describe()\n",
        "print(statistics)"
      ],
      "execution_count": null,
      "outputs": [
        {
          "output_type": "stream",
          "text": [
            "count    10.00000\n",
            "mean      4.50000\n",
            "std       3.02765\n",
            "min       0.00000\n",
            "25%       2.25000\n",
            "50%       4.50000\n",
            "75%       6.75000\n",
            "max       9.00000\n",
            "dtype: float64\n"
          ],
          "name": "stdout"
        }
      ]
    },
    {
      "cell_type": "markdown",
      "metadata": {
        "id": "KwwnuwmI3Ct-"
      },
      "source": [
        "2.Узнать частоту уникальных элементов объекта Series (гистограмма)"
      ]
    },
    {
      "cell_type": "code",
      "metadata": {
        "colab": {
          "base_uri": "https://localhost:8080/"
        },
        "id": "HVWV3TTB3EQ_",
        "outputId": "b0cc2aba-9975-4062-a77d-60d50e186a40"
      },
      "source": [
        "a = [1, 1, 1, 8, 5, 2, 2]\n",
        "s = Series(a)\n",
        "histogram = s.value_counts()\n",
        "print(histogram)"
      ],
      "execution_count": null,
      "outputs": [
        {
          "output_type": "stream",
          "text": [
            "1    3\n",
            "2    2\n",
            "5    1\n",
            "8    1\n",
            "dtype: int64\n"
          ],
          "name": "stdout"
        }
      ]
    },
    {
      "cell_type": "markdown",
      "metadata": {
        "id": "TUobGDEh39ge"
      },
      "source": [
        "3.Заменить все элементы объекта Series на \"Other\", кроме двух наиболее часто встречающихся"
      ]
    },
    {
      "cell_type": "code",
      "metadata": {
        "colab": {
          "base_uri": "https://localhost:8080/"
        },
        "id": "am8RF0Dd4A9P",
        "outputId": "7d6145e1-f94d-47e7-8c34-4e00c0aaa1cc"
      },
      "source": [
        "a = pd.Series(np.random.randint(1, 5, size = 8))\n",
        "frequent = a.value_counts()\n",
        "s = a.value_counts()[2:] \n",
        "\n",
        "print(a, '\\n')\n",
        "res = a[a.isin(s.index)]\n",
        "a[res.index] = 'Other'\n",
        "\n",
        "print(frequent, s, res, a, sep = '\\n\\n')"
      ],
      "execution_count": null,
      "outputs": [
        {
          "output_type": "stream",
          "text": [
            "0    4\n",
            "1    1\n",
            "2    4\n",
            "3    3\n",
            "4    2\n",
            "5    1\n",
            "6    1\n",
            "7    4\n",
            "dtype: int64 \n",
            "\n",
            "4    3\n",
            "1    3\n",
            "3    1\n",
            "2    1\n",
            "dtype: int64\n",
            "\n",
            "3    1\n",
            "2    1\n",
            "dtype: int64\n",
            "\n",
            "3    3\n",
            "4    2\n",
            "dtype: int64\n",
            "\n",
            "0        4\n",
            "1        1\n",
            "2        4\n",
            "3    Other\n",
            "4    Other\n",
            "5        1\n",
            "6        1\n",
            "7        4\n",
            "dtype: object\n"
          ],
          "name": "stdout"
        }
      ]
    },
    {
      "cell_type": "markdown",
      "metadata": {
        "id": "b9Lmsk9h47s_"
      },
      "source": [
        "4.Создать объект Series, в индексах - дата каждый день 2019 года, в значениях - случайное значение"
      ]
    },
    {
      "cell_type": "code",
      "metadata": {
        "colab": {
          "base_uri": "https://localhost:8080/"
        },
        "id": "sjiq58ut5ohp",
        "outputId": "ef3eb9a6-bea7-4572-a4b3-6a6d8f878bb8"
      },
      "source": [
        "date = pd.date_range(start='2019-01-01', end='2019-12-31') \n",
        "s = pd.Series(np.random.rand(len(date)), index=date)\n",
        "print(s)"
      ],
      "execution_count": null,
      "outputs": [
        {
          "output_type": "stream",
          "text": [
            "2019-01-01    0.517939\n",
            "2019-01-02    0.448168\n",
            "2019-01-03    0.315535\n",
            "2019-01-04    0.674148\n",
            "2019-01-05    0.826135\n",
            "                ...   \n",
            "2019-12-27    0.971723\n",
            "2019-12-28    0.255286\n",
            "2019-12-29    0.434808\n",
            "2019-12-30    0.681775\n",
            "2019-12-31    0.532383\n",
            "Freq: D, Length: 365, dtype: float64\n"
          ],
          "name": "stdout"
        }
      ]
    },
    {
      "cell_type": "markdown",
      "metadata": {
        "id": "2dO2DHPI6Asa"
      },
      "source": [
        "5.Найти сумму всех вторников"
      ]
    },
    {
      "cell_type": "code",
      "metadata": {
        "colab": {
          "base_uri": "https://localhost:8080/"
        },
        "id": "sADd_Xip6Dqa",
        "outputId": "687c70aa-3e80-468d-d826-91a63b736e0a"
      },
      "source": [
        "tuesdays = s[s.index.weekday == 1].sum()\n",
        "print(tuesdays)"
      ],
      "execution_count": null,
      "outputs": [
        {
          "output_type": "stream",
          "text": [
            "25.248893047626634\n"
          ],
          "name": "stdout"
        }
      ]
    },
    {
      "cell_type": "markdown",
      "metadata": {
        "id": "Jpk82kR-6mDJ"
      },
      "source": [
        "6.Для каждого месяца найти среднее значение"
      ]
    },
    {
      "cell_type": "code",
      "metadata": {
        "colab": {
          "base_uri": "https://localhost:8080/"
        },
        "id": "t-18OYSj6pda",
        "outputId": "62197481-8cbc-4711-b8fc-50e480d8d55e"
      },
      "source": [
        "month_mean = s.resample('M').mean()\n",
        "print(month_mean)"
      ],
      "execution_count": null,
      "outputs": [
        {
          "output_type": "stream",
          "text": [
            "2019-01-31    0.521017\n",
            "2019-02-28    0.412165\n",
            "2019-03-31    0.463698\n",
            "2019-04-30    0.524028\n",
            "2019-05-31    0.493896\n",
            "2019-06-30    0.470251\n",
            "2019-07-31    0.485005\n",
            "2019-08-31    0.580585\n",
            "2019-09-30    0.548037\n",
            "2019-10-31    0.522643\n",
            "2019-11-30    0.489628\n",
            "2019-12-31    0.572000\n",
            "Freq: M, dtype: float64\n"
          ],
          "name": "stdout"
        }
      ]
    },
    {
      "cell_type": "markdown",
      "metadata": {
        "id": "OP3DoqrR7KkZ"
      },
      "source": [
        "7.Преобразовать объект Series в DataFrame заданной формы (shape)"
      ]
    },
    {
      "cell_type": "code",
      "metadata": {
        "colab": {
          "base_uri": "https://localhost:8080/",
          "height": 204
        },
        "id": "XJHwWsYW7LtZ",
        "outputId": "5e8cf681-918f-4b40-e37b-1900c1e80f5b"
      },
      "source": [
        "s = pd.Series(np.random.randint(1, 10, [15]))\n",
        "shape = (5,3)\n",
        "df = pd.DataFrame(s.values.reshape(shape))\n",
        "df"
      ],
      "execution_count": null,
      "outputs": [
        {
          "output_type": "execute_result",
          "data": {
            "text/html": [
              "<div>\n",
              "<style scoped>\n",
              "    .dataframe tbody tr th:only-of-type {\n",
              "        vertical-align: middle;\n",
              "    }\n",
              "\n",
              "    .dataframe tbody tr th {\n",
              "        vertical-align: top;\n",
              "    }\n",
              "\n",
              "    .dataframe thead th {\n",
              "        text-align: right;\n",
              "    }\n",
              "</style>\n",
              "<table border=\"1\" class=\"dataframe\">\n",
              "  <thead>\n",
              "    <tr style=\"text-align: right;\">\n",
              "      <th></th>\n",
              "      <th>0</th>\n",
              "      <th>1</th>\n",
              "      <th>2</th>\n",
              "    </tr>\n",
              "  </thead>\n",
              "  <tbody>\n",
              "    <tr>\n",
              "      <th>0</th>\n",
              "      <td>7</td>\n",
              "      <td>3</td>\n",
              "      <td>8</td>\n",
              "    </tr>\n",
              "    <tr>\n",
              "      <th>1</th>\n",
              "      <td>7</td>\n",
              "      <td>2</td>\n",
              "      <td>4</td>\n",
              "    </tr>\n",
              "    <tr>\n",
              "      <th>2</th>\n",
              "      <td>2</td>\n",
              "      <td>7</td>\n",
              "      <td>4</td>\n",
              "    </tr>\n",
              "    <tr>\n",
              "      <th>3</th>\n",
              "      <td>6</td>\n",
              "      <td>1</td>\n",
              "      <td>9</td>\n",
              "    </tr>\n",
              "    <tr>\n",
              "      <th>4</th>\n",
              "      <td>3</td>\n",
              "      <td>3</td>\n",
              "      <td>5</td>\n",
              "    </tr>\n",
              "  </tbody>\n",
              "</table>\n",
              "</div>"
            ],
            "text/plain": [
              "   0  1  2\n",
              "0  7  3  8\n",
              "1  7  2  4\n",
              "2  2  7  4\n",
              "3  6  1  9\n",
              "4  3  3  5"
            ]
          },
          "metadata": {
            "tags": []
          },
          "execution_count": 23
        }
      ]
    },
    {
      "cell_type": "markdown",
      "metadata": {
        "id": "LgyC9Y2B8Bgy"
      },
      "source": [
        "8.Найти индексы объекта Series кратные 3"
      ]
    },
    {
      "cell_type": "code",
      "metadata": {
        "colab": {
          "base_uri": "https://localhost:8080/"
        },
        "id": "Xr3ks9hu8IT6",
        "outputId": "23ae1575-8326-4a52-b091-a367502e2153"
      },
      "source": [
        "s = pd.Series(np.random.randint(1, 10, [10]))\n",
        "print(s, '\\n') \n",
        "s[s % 3 == 0].index"
      ],
      "execution_count": null,
      "outputs": [
        {
          "output_type": "stream",
          "text": [
            "0    2\n",
            "1    7\n",
            "2    1\n",
            "3    6\n",
            "4    4\n",
            "5    7\n",
            "6    3\n",
            "7    9\n",
            "8    4\n",
            "9    4\n",
            "dtype: int64 \n",
            "\n"
          ],
          "name": "stdout"
        },
        {
          "output_type": "execute_result",
          "data": {
            "text/plain": [
              "Int64Index([3, 6, 7], dtype='int64')"
            ]
          },
          "metadata": {
            "tags": []
          },
          "execution_count": 30
        }
      ]
    },
    {
      "cell_type": "markdown",
      "metadata": {
        "id": "1i8uERWC9O26"
      },
      "source": [
        "9.Получить данные по индексам объекта Series"
      ]
    },
    {
      "cell_type": "code",
      "metadata": {
        "colab": {
          "base_uri": "https://localhost:8080/"
        },
        "id": "8quqRFSO9UBx",
        "outputId": "afe79419-6014-45c4-b4c3-16610f757fa8"
      },
      "source": [
        "s = pd.Series(list('edcvbjkijkpolltu'))\n",
        "index = [0, 2, 4, 6, 10, 11]\n",
        "print(s[index])"
      ],
      "execution_count": null,
      "outputs": [
        {
          "output_type": "stream",
          "text": [
            "0     e\n",
            "2     c\n",
            "4     b\n",
            "6     k\n",
            "10    p\n",
            "11    o\n",
            "dtype: object\n"
          ],
          "name": "stdout"
        }
      ]
    },
    {
      "cell_type": "markdown",
      "metadata": {
        "id": "s8qxn2YA-8YN"
      },
      "source": [
        "10.Объединить два объекта Series вертикально и горизонтально"
      ]
    },
    {
      "cell_type": "code",
      "metadata": {
        "colab": {
          "base_uri": "https://localhost:8080/"
        },
        "id": "z4Ks59PS-_11",
        "outputId": "a0e2e78a-2ca5-41d0-9439-1ccf15d61578"
      },
      "source": [
        "s1 = pd.Series(np.random.randint(1,5,[5]))\n",
        "s2 = pd.Series(['a','b','c','d','e'])\n",
        " \n",
        "print(pd.concat([s1, s2], axis = 0), '\\n')\n",
        "print(pd.concat([s1, s2], axis = 1))"
      ],
      "execution_count": null,
      "outputs": [
        {
          "output_type": "stream",
          "text": [
            "0    2\n",
            "1    3\n",
            "2    4\n",
            "3    4\n",
            "4    1\n",
            "0    a\n",
            "1    b\n",
            "2    c\n",
            "3    d\n",
            "4    e\n",
            "dtype: object \n",
            "\n",
            "   0  1\n",
            "0  2  a\n",
            "1  3  b\n",
            "2  4  c\n",
            "3  4  d\n",
            "4  1  e\n"
          ],
          "name": "stdout"
        }
      ]
    },
    {
      "cell_type": "markdown",
      "metadata": {
        "id": "LVd5JxZqAAtl"
      },
      "source": [
        "11.Получить индексы объекта Series A, данные которых содержатся в объетке Series B"
      ]
    },
    {
      "cell_type": "code",
      "metadata": {
        "colab": {
          "base_uri": "https://localhost:8080/"
        },
        "id": "lyucO0lGAEzm",
        "outputId": "30fb5424-2db1-4380-98be-1082080a7062"
      },
      "source": [
        "a = pd.Series([1,2,3,4])\n",
        "b = pd.Series([2,4,6,8])\n",
        "\n",
        "a[a.isin(b)].index"
      ],
      "execution_count": null,
      "outputs": [
        {
          "output_type": "execute_result",
          "data": {
            "text/plain": [
              "Int64Index([1, 3], dtype='int64')"
            ]
          },
          "metadata": {
            "tags": []
          },
          "execution_count": 49
        }
      ]
    },
    {
      "cell_type": "markdown",
      "metadata": {
        "id": "EDGsdLGUAWRc"
      },
      "source": [
        "12.Получить объект Series B, котоырй содержит элементы без повторений объекта A"
      ]
    },
    {
      "cell_type": "code",
      "metadata": {
        "colab": {
          "base_uri": "https://localhost:8080/"
        },
        "id": "2AWdKOCNAbc9",
        "outputId": "ec6f370d-b805-465e-f8eb-aeb7102765d2"
      },
      "source": [
        "a = pd.Series(np.random.randint(1, 5, [5]))\n",
        "b = pd.Series(a.unique())\n",
        "print(a, '\\n')\n",
        "print(b)"
      ],
      "execution_count": null,
      "outputs": [
        {
          "output_type": "stream",
          "text": [
            "0    3\n",
            "1    3\n",
            "2    2\n",
            "3    1\n",
            "4    1\n",
            "dtype: int64 \n",
            "\n",
            "0    3\n",
            "1    2\n",
            "2    1\n",
            "dtype: int64\n"
          ],
          "name": "stdout"
        }
      ]
    },
    {
      "cell_type": "markdown",
      "metadata": {
        "id": "T99k4aIOBMME"
      },
      "source": [
        "13.Преобразовать каждый символ объекта Series в верхний регистр"
      ]
    },
    {
      "cell_type": "code",
      "metadata": {
        "colab": {
          "base_uri": "https://localhost:8080/"
        },
        "id": "G5kSO8x4BQMk",
        "outputId": "fc71b524-39b6-4e39-a3e8-8ec2e9ed7e8f"
      },
      "source": [
        "s = pd.Series(['a','b','c','d', 'e'])\n",
        "s1 = pd.Series(i.title() for i in s)\n",
        "print(s1)"
      ],
      "execution_count": null,
      "outputs": [
        {
          "output_type": "stream",
          "text": [
            "0    A\n",
            "1    B\n",
            "2    C\n",
            "3    D\n",
            "4    E\n",
            "dtype: object\n"
          ],
          "name": "stdout"
        }
      ]
    },
    {
      "cell_type": "markdown",
      "metadata": {
        "id": "1N6grqJdCBeF"
      },
      "source": [
        "14.Преобразовать данные Series в строку"
      ]
    },
    {
      "cell_type": "code",
      "metadata": {
        "colab": {
          "base_uri": "https://localhost:8080/"
        },
        "id": "umyp4SXOCG41",
        "outputId": "4b237638-966a-40a4-bd0f-46bca0505c1c"
      },
      "source": [
        "s = pd.Series(['a','b','c','d', 'e'])\n",
        "s1 = pd.Series(str(i) for i in s)\n",
        "print(s1)"
      ],
      "execution_count": null,
      "outputs": [
        {
          "output_type": "stream",
          "text": [
            "0    a\n",
            "1    b\n",
            "2    c\n",
            "3    d\n",
            "4    e\n",
            "dtype: object\n"
          ],
          "name": "stdout"
        }
      ]
    },
    {
      "cell_type": "markdown",
      "metadata": {
        "id": "5brXjmBJCpQO"
      },
      "source": [
        "15.Рассчитать количество символов в объекте Series"
      ]
    },
    {
      "cell_type": "code",
      "metadata": {
        "colab": {
          "base_uri": "https://localhost:8080/"
        },
        "id": "8Qz83smgCtDq",
        "outputId": "05e3ec1e-5427-4804-b59d-231ab0d2ad27"
      },
      "source": [
        "s = pd.Series(['a','ab','abc','d', 'e'])\n",
        "s1 = np.asarray([len(i) for i in s])\n",
        "print(s1)"
      ],
      "execution_count": null,
      "outputs": [
        {
          "output_type": "stream",
          "text": [
            "[1 2 3 1 1]\n"
          ],
          "name": "stdout"
        }
      ]
    },
    {
      "cell_type": "markdown",
      "metadata": {
        "id": "d1ODJaKYDW90"
      },
      "source": [
        "16.Найти разность между объектом Series и смещением объекта Series на n"
      ]
    },
    {
      "cell_type": "code",
      "metadata": {
        "colab": {
          "base_uri": "https://localhost:8080/"
        },
        "id": "QOKx8OEWDY4N",
        "outputId": "378854b3-7694-481f-f7a0-3dc3f1d3a6ad"
      },
      "source": [
        "n = 1 \n",
        "s = pd.Series([2, 5, 6, 8, 10])\n",
        "s1 = s.diff(periods=n)\n",
        "print(s1)"
      ],
      "execution_count": null,
      "outputs": [
        {
          "output_type": "stream",
          "text": [
            "0    NaN\n",
            "1    3.0\n",
            "2    1.0\n",
            "3    2.0\n",
            "4    2.0\n",
            "dtype: float64\n"
          ],
          "name": "stdout"
        }
      ]
    },
    {
      "cell_type": "markdown",
      "metadata": {
        "id": "2gWlhJPWGGag"
      },
      "source": [
        "17.Преобразовать разные форматы строк объекта Series в дату"
      ]
    },
    {
      "cell_type": "code",
      "metadata": {
        "colab": {
          "base_uri": "https://localhost:8080/"
        },
        "id": "PVjn3nfYGNqG",
        "outputId": "d1f8ae07-4779-4b96-cb2e-b9c16f00c36a"
      },
      "source": [
        "s = pd.Series(['2018/09/01', '2019-10-02', '3 Nov 2020'])\n",
        "date = pd.to_datetime(s)\n",
        "print(date)"
      ],
      "execution_count": null,
      "outputs": [
        {
          "output_type": "stream",
          "text": [
            "0   2018-09-01\n",
            "1   2019-10-02\n",
            "2   2020-11-03\n",
            "dtype: datetime64[ns]\n"
          ],
          "name": "stdout"
        }
      ]
    },
    {
      "cell_type": "markdown",
      "metadata": {
        "id": "o_50XWaQLTgP"
      },
      "source": [
        "18.Получить год, месяц, день, день недели, номер дня в году от объекта Series (string). Распарсить в дату и время"
      ]
    },
    {
      "cell_type": "code",
      "metadata": {
        "colab": {
          "base_uri": "https://localhost:8080/"
        },
        "id": "9vacCP2RLhk2",
        "outputId": "1b3af754-1eb1-4f60-d3b7-6c8cba0505fe"
      },
      "source": [
        "from dateutil.parser import parse\n",
        " \n",
        "s = pd.Series(['01 Jan 2017', '02-02-2018', '20190303', '04/04/2020'])\n",
        "s1 = s.map(lambda x: parse(x, yearfirst=True))\n",
        "print(s1)"
      ],
      "execution_count": null,
      "outputs": [
        {
          "output_type": "stream",
          "text": [
            "0   2017-01-01\n",
            "1   2018-02-02\n",
            "2   2019-03-03\n",
            "3   2020-04-04\n",
            "dtype: datetime64[ns]\n"
          ],
          "name": "stdout"
        }
      ]
    },
    {
      "cell_type": "markdown",
      "metadata": {
        "id": "AJH1dFtVZE9M"
      },
      "source": [
        "19.Получить года, месяца, дни, номер недели, номер дня в году"
      ]
    },
    {
      "cell_type": "code",
      "metadata": {
        "colab": {
          "base_uri": "https://localhost:8080/"
        },
        "id": "RRs1Eai_ZJS4",
        "outputId": "8947123e-7ea6-4381-924c-c271aa9df31d"
      },
      "source": [
        "print(s1.dt.year, '\\n') #год\n",
        "print(s1.dt.month, '\\n') #месяц\n",
        "print(s1.dt.day, '\\n') #день\n",
        "print(s1.dt.isocalendar().week, '\\n') #номер недели\n",
        "print(s1.dt.dayofyear) #номер дня в году"
      ],
      "execution_count": null,
      "outputs": [
        {
          "output_type": "stream",
          "text": [
            "0    2017\n",
            "1    2018\n",
            "2    2019\n",
            "3    2020\n",
            "dtype: int64 \n",
            "\n",
            "0    1\n",
            "1    2\n",
            "2    3\n",
            "3    4\n",
            "dtype: int64 \n",
            "\n",
            "0    1\n",
            "1    2\n",
            "2    3\n",
            "3    4\n",
            "dtype: int64 \n",
            "\n",
            "0    52\n",
            "1     5\n",
            "2     9\n",
            "3    14\n",
            "Name: week, dtype: UInt32 \n",
            "\n",
            "0     1\n",
            "1    33\n",
            "2    62\n",
            "3    95\n",
            "dtype: int64\n"
          ],
          "name": "stdout"
        }
      ]
    },
    {
      "cell_type": "markdown",
      "metadata": {
        "id": "F0BRJclZZSh_"
      },
      "source": [
        "20.Отобрать элементы объекта Series, кторые содержат не менее двух гласных"
      ]
    },
    {
      "cell_type": "code",
      "metadata": {
        "colab": {
          "base_uri": "https://localhost:8080/"
        },
        "id": "atp0FSlpcXgw",
        "outputId": "c5a0da30-17a9-4d8b-957c-3032f12176be"
      },
      "source": [
        "from collections import Counter\n",
        "s = pd.Series(['one', 'two', 'zzz', 'five', 'six'])\n",
        "mask = s.map(lambda x: sum([Counter(x.lower()).get(i, 0) for i in list('aeiou')]) >= 2)\n",
        "print(s[mask])"
      ],
      "execution_count": null,
      "outputs": [
        {
          "output_type": "stream",
          "text": [
            "0     one\n",
            "3    five\n",
            "dtype: object\n"
          ],
          "name": "stdout"
        }
      ]
    },
    {
      "cell_type": "markdown",
      "metadata": {
        "id": "lGcUre7vdalU"
      },
      "source": [
        "21.Отобрать e-маилы из объекта Series"
      ]
    },
    {
      "cell_type": "code",
      "metadata": {
        "colab": {
          "base_uri": "https://localhost:8080/"
        },
        "id": "AN2JwV78did2",
        "outputId": "7b10f9f5-fd88-45b2-ad60-d63b6486a471"
      },
      "source": [
        "import re\n",
        " \n",
        "emails = pd.Series(['test text @test.com', 'test@mail.ru', 'test.2ru', 'test@mail.ur', 'test@mail.com'])\n",
        "pattern = '[A-Za-z0-9._%+-]+@[A-Za-z0-9.-]+\\\\.(ru|com)'\n",
        "mask = emails.map(lambda x: bool(re.match(pattern, x)))\n",
        "result = emails[mask]\n",
        "print(result)"
      ],
      "execution_count": null,
      "outputs": [
        {
          "output_type": "stream",
          "text": [
            "1     test@mail.ru\n",
            "4    test@mail.com\n",
            "dtype: object\n"
          ],
          "name": "stdout"
        }
      ]
    },
    {
      "cell_type": "markdown",
      "metadata": {
        "id": "BjDwzVOReTkt"
      },
      "source": [
        "22.Получить среднее значение каждого уникального объекта Series s1 через \"маску\" другого объекта Series s2"
      ]
    },
    {
      "cell_type": "code",
      "metadata": {
        "colab": {
          "base_uri": "https://localhost:8080/"
        },
        "id": "dtMVYqmXeYXF",
        "outputId": "60429a6e-c0ff-4ccf-9a1c-be6b1542d4dd"
      },
      "source": [
        "n = 10\n",
        "s1 = pd.Series(np.random.choice(['white', 'black', 'red', 'blue'], n))\n",
        "s2 = pd.Series(np.linspace(1,n,n))\n",
        "mean_s1 = s2.groupby(s1).mean()\n",
        "print(mean_s1)"
      ],
      "execution_count": null,
      "outputs": [
        {
          "output_type": "stream",
          "text": [
            "black    6.00\n",
            "blue     5.00\n",
            "red      6.00\n",
            "white    5.25\n",
            "dtype: float64\n"
          ],
          "name": "stdout"
        }
      ]
    }
  ]
}
