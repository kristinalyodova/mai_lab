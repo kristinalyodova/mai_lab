{
  "nbformat": 4,
  "nbformat_minor": 0,
  "metadata": {
    "colab": {
      "name": "lab_numpy_3.ipynb",
      "provenance": []
    },
    "kernelspec": {
      "name": "python3",
      "display_name": "Python 3"
    }
  },
  "cells": [
    {
      "cell_type": "markdown",
      "metadata": {
        "id": "MLQIrDP6wsZp"
      },
      "source": [
        "## Лёдова Кристина Владимировна"
      ]
    },
    {
      "cell_type": "markdown",
      "metadata": {
        "id": "BaK2iaVOwwrB"
      },
      "source": [
        "## группа Т12О-101М-20"
      ]
    },
    {
      "cell_type": "code",
      "metadata": {
        "id": "Of2qymnFw04e"
      },
      "source": [
        "import numpy as np\n"
      ],
      "execution_count": 1,
      "outputs": []
    },
    {
      "cell_type": "markdown",
      "metadata": {
        "id": "FYYyZyvkw8KA"
      },
      "source": [
        "1.Дан вектор [1, 2, 3, 4, 5], построить новый вектор с тремя нулями между каждым значением"
      ]
    },
    {
      "cell_type": "code",
      "metadata": {
        "colab": {
          "base_uri": "https://localhost:8080/"
        },
        "id": "1Mf_qJSHxAfu",
        "outputId": "f71c2ac6-2211-416a-c4f6-0700e79a9e89"
      },
      "source": [
        "arr = np.array([1,2,3,4,5])\n",
        "\n",
        "arr_new = np.zeros(len(arr) + (len(arr)-1)*3)\n",
        "arr_new[::3+1] = arr\n",
        "arr_new"
      ],
      "execution_count": 5,
      "outputs": [
        {
          "output_type": "execute_result",
          "data": {
            "text/plain": [
              "array([1., 0., 0., 0., 2., 0., 0., 0., 3., 0., 0., 0., 4., 0., 0., 0., 5.])"
            ]
          },
          "metadata": {
            "tags": []
          },
          "execution_count": 5
        }
      ]
    },
    {
      "cell_type": "markdown",
      "metadata": {
        "id": "FD2EUuNUxL5a"
      },
      "source": [
        "2.Поменять 2 строки в матрице"
      ]
    },
    {
      "cell_type": "code",
      "metadata": {
        "colab": {
          "base_uri": "https://localhost:8080/"
        },
        "id": "uMrJ7kK1xOgD",
        "outputId": "1cf81719-47d8-4800-967f-1a1c9f410616"
      },
      "source": [
        "A = np.arange(25).reshape(5,5)\n",
        "print(A, '\\n')\n",
        "A[[0,1]] = A[[1,0]]\n",
        "print(A)\n"
      ],
      "execution_count": 6,
      "outputs": [
        {
          "output_type": "stream",
          "text": [
            "[[ 0  1  2  3  4]\n",
            " [ 5  6  7  8  9]\n",
            " [10 11 12 13 14]\n",
            " [15 16 17 18 19]\n",
            " [20 21 22 23 24]] \n",
            "\n",
            "[[ 5  6  7  8  9]\n",
            " [ 0  1  2  3  4]\n",
            " [10 11 12 13 14]\n",
            " [15 16 17 18 19]\n",
            " [20 21 22 23 24]]\n"
          ],
          "name": "stdout"
        }
      ]
    },
    {
      "cell_type": "markdown",
      "metadata": {
        "id": "oBRBMkexxUcX"
      },
      "source": [
        "3.Рассмотрим набор из 10 троек, описывающих 10 треугольников (с общими вершинами), найти множество уникальных отрезков, составляющих все треугольники"
      ]
    },
    {
      "cell_type": "code",
      "metadata": {
        "colab": {
          "base_uri": "https://localhost:8080/"
        },
        "id": "Mzo0r7FLxbHy",
        "outputId": "8ee1a821-f0ed-4b3a-9b2f-c081c716a1b2"
      },
      "source": [
        "faces = np.random.randint(0,100,(10,3))\n",
        "F = np.roll(faces.repeat(2,axis=1),-1,axis=1)\n",
        "F = F.reshape(len(F)*3,2)\n",
        "F = np.sort(F,axis=1)\n",
        "G = F.view( dtype=[('p0',F.dtype),('p1',F.dtype)] )\n",
        "G = np.unique(G)\n",
        "\n",
        "G"
      ],
      "execution_count": 7,
      "outputs": [
        {
          "output_type": "execute_result",
          "data": {
            "text/plain": [
              "array([( 1, 51), ( 1, 84), ( 3, 49), ( 3, 93), ( 9, 25), ( 9, 88),\n",
              "       (10, 21), (10, 87), (12, 31), (12, 87), (17, 61), (17, 97),\n",
              "       (20, 24), (20, 64), (21, 87), (24, 64), (25, 88), (31, 87),\n",
              "       (48, 65), (48, 91), (49, 93), (51, 84), (61, 97), (65, 91),\n",
              "       (69, 71), (69, 87), (71, 87), (85, 92), (85, 98), (92, 98)],\n",
              "      dtype=[('p0', '<i8'), ('p1', '<i8')])"
            ]
          },
          "metadata": {
            "tags": []
          },
          "execution_count": 7
        }
      ]
    },
    {
      "cell_type": "markdown",
      "metadata": {
        "id": "qrtelprDxdn3"
      },
      "source": [
        "4.Дан массив C; создать массив A, что np.bincount(A) == C"
      ]
    },
    {
      "cell_type": "code",
      "metadata": {
        "colab": {
          "base_uri": "https://localhost:8080/"
        },
        "id": "bFDZO3Y-xgfl",
        "outputId": "090674b4-5d30-4d6b-921c-c32741c13bcf"
      },
      "source": [
        "C = np.bincount([1,1,2,3,4,4,6])\n",
        "\n",
        "np.repeat(np.arange(len(C)), C)"
      ],
      "execution_count": 8,
      "outputs": [
        {
          "output_type": "execute_result",
          "data": {
            "text/plain": [
              "array([1, 1, 2, 3, 4, 4, 6])"
            ]
          },
          "metadata": {
            "tags": []
          },
          "execution_count": 8
        }
      ]
    },
    {
      "cell_type": "markdown",
      "metadata": {
        "id": "AJ5yF5WVxkRT"
      },
      "source": [
        "5.Посчитать среднее, используя плавающее окно"
      ]
    },
    {
      "cell_type": "code",
      "metadata": {
        "colab": {
          "base_uri": "https://localhost:8080/"
        },
        "id": "lyu0SyBbxmRH",
        "outputId": "9db0134e-a815-414f-8943-f1712c3ffcb9"
      },
      "source": [
        "\n",
        "def moving_average(a, n = 3):\n",
        "    ret = np.cumsum(a, dtype = float)\n",
        "    ret[n:] = ret[n:] - ret[:-n]\n",
        "    return ret[n - 1:] / n\n",
        "\n",
        "print(moving_average(np.arange(10), 3))"
      ],
      "execution_count": 9,
      "outputs": [
        {
          "output_type": "stream",
          "text": [
            "[1. 2. 3. 4. 5. 6. 7. 8.]\n"
          ],
          "name": "stdout"
        }
      ]
    },
    {
      "cell_type": "markdown",
      "metadata": {
        "id": "oc9C1KOKxsOT"
      },
      "source": [
        "6.Дан вектор Z, построить матрицу, первая строка которой (Z[0],Z[1],Z[2]), каждая последующая сдвинута на 1 (последняя (Z[-3],Z[-2],Z[-1]))"
      ]
    },
    {
      "cell_type": "code",
      "metadata": {
        "colab": {
          "base_uri": "https://localhost:8080/"
        },
        "id": "-sjppJ4_xtEs",
        "outputId": "b2ef685e-74c7-4471-9458-3f0cf18fa1da"
      },
      "source": [
        "from numpy.lib import stride_tricks\n",
        "\n",
        "def rolling(a, window):\n",
        "    shape = (a.size - window + 1, window)\n",
        "    strides = (a.itemsize, a.itemsize)\n",
        "    return stride_tricks.as_strided(a, shape=shape, strides=strides)\n",
        "Z = rolling(np.arange(10), 3)\n",
        "print(Z)"
      ],
      "execution_count": 10,
      "outputs": [
        {
          "output_type": "stream",
          "text": [
            "[[0 1 2]\n",
            " [1 2 3]\n",
            " [2 3 4]\n",
            " [3 4 5]\n",
            " [4 5 6]\n",
            " [5 6 7]\n",
            " [6 7 8]\n",
            " [7 8 9]]\n"
          ],
          "name": "stdout"
        }
      ]
    },
    {
      "cell_type": "markdown",
      "metadata": {
        "id": "NaUURSnzxxIC"
      },
      "source": [
        "7.Инвертировать булево значение, или поменять знак у числового массива без создания нового"
      ]
    },
    {
      "cell_type": "code",
      "metadata": {
        "colab": {
          "base_uri": "https://localhost:8080/"
        },
        "id": "QTepOTsixzS8",
        "outputId": "b222764d-6d11-4156-c1c1-7d156af945af"
      },
      "source": [
        "Z = np.random.randint(0,2,100)\n",
        "np.logical_not(arr, out = arr)"
      ],
      "execution_count": 14,
      "outputs": [
        {
          "output_type": "execute_result",
          "data": {
            "text/plain": [
              "array([1, 1, 1, 1, 1])"
            ]
          },
          "metadata": {
            "tags": []
          },
          "execution_count": 14
        }
      ]
    },
    {
      "cell_type": "code",
      "metadata": {
        "colab": {
          "base_uri": "https://localhost:8080/"
        },
        "id": "UXQEzvRryA7_",
        "outputId": "ead49570-60ff-4cd4-d196-57a5882bd39b"
      },
      "source": [
        "Z = np.random.uniform(-1.0,1.0,100)\n",
        "np.negative(arr, out=arr)"
      ],
      "execution_count": 15,
      "outputs": [
        {
          "output_type": "execute_result",
          "data": {
            "text/plain": [
              "array([-1, -1, -1, -1, -1])"
            ]
          },
          "metadata": {
            "tags": []
          },
          "execution_count": 15
        }
      ]
    },
    {
      "cell_type": "markdown",
      "metadata": {
        "id": "sYcb-2T-yEsU"
      },
      "source": [
        "8.Посчитать ранг матрицы"
      ]
    },
    {
      "cell_type": "code",
      "metadata": {
        "colab": {
          "base_uri": "https://localhost:8080/"
        },
        "id": "Q4WczlObyH-O",
        "outputId": "aad31a44-8142-4531-ac24-71a1207e0cf7"
      },
      "source": [
        "Z = np.random.uniform(0,1,(10,10))\n",
        "rank = np.linalg.matrix_rank(Z)\n",
        "print(rank)"
      ],
      "execution_count": 16,
      "outputs": [
        {
          "output_type": "stream",
          "text": [
            "10\n"
          ],
          "name": "stdout"
        }
      ]
    },
    {
      "cell_type": "markdown",
      "metadata": {
        "id": "UdllxNCpyLVd"
      },
      "source": [
        "9.Найти наиболее частое значение в массиве"
      ]
    },
    {
      "cell_type": "code",
      "metadata": {
        "colab": {
          "base_uri": "https://localhost:8080/"
        },
        "id": "AerJmPYkyPEi",
        "outputId": "c40316f5-d4f6-4f5c-93f3-c0a49ce6107e"
      },
      "source": [
        "Z = np.random.randint(0,10,50)\n",
        "print(Z)\n",
        "print(np.bincount(Z).argmax())"
      ],
      "execution_count": 17,
      "outputs": [
        {
          "output_type": "stream",
          "text": [
            "[4 2 3 1 2 8 2 3 4 1 9 1 6 3 5 0 6 0 6 6 5 3 3 8 2 0 6 3 3 3 8 3 1 7 0 1 5\n",
            " 7 8 1 1 6 0 9 4 8 4 4 0 7]\n",
            "3\n"
          ],
          "name": "stdout"
        }
      ]
    },
    {
      "cell_type": "markdown",
      "metadata": {
        "id": "V4sTgtk6yUhA"
      },
      "source": [
        "10.Извлечь все смежные 3x3 блоки из 10x10 матрицы"
      ]
    },
    {
      "cell_type": "code",
      "metadata": {
        "colab": {
          "base_uri": "https://localhost:8080/"
        },
        "id": "3bWbAj7NyU-1",
        "outputId": "b8c99ec1-595b-4049-adf5-497c2a15b261"
      },
      "source": [
        "from numpy.lib import stride_tricks\n",
        "\n",
        "Z = np.random.randint(0,5,(10,10))\n",
        "n = 3\n",
        "i = 1 + (Z.shape[0] - n)\n",
        "j = 1 + (Z.shape[1] - n)\n",
        "C = stride_tricks.as_strided(Z, shape=(i, j, n, n), strides=Z.strides + Z.strides)\n",
        "C"
      ],
      "execution_count": 18,
      "outputs": [
        {
          "output_type": "execute_result",
          "data": {
            "text/plain": [
              "array([[[[0, 1, 0],\n",
              "         [2, 1, 3],\n",
              "         [2, 2, 3]],\n",
              "\n",
              "        [[1, 0, 3],\n",
              "         [1, 3, 2],\n",
              "         [2, 3, 0]],\n",
              "\n",
              "        [[0, 3, 3],\n",
              "         [3, 2, 3],\n",
              "         [3, 0, 3]],\n",
              "\n",
              "        [[3, 3, 1],\n",
              "         [2, 3, 1],\n",
              "         [0, 3, 0]],\n",
              "\n",
              "        [[3, 1, 3],\n",
              "         [3, 1, 3],\n",
              "         [3, 0, 0]],\n",
              "\n",
              "        [[1, 3, 2],\n",
              "         [1, 3, 4],\n",
              "         [0, 0, 1]],\n",
              "\n",
              "        [[3, 2, 2],\n",
              "         [3, 4, 2],\n",
              "         [0, 1, 2]],\n",
              "\n",
              "        [[2, 2, 2],\n",
              "         [4, 2, 1],\n",
              "         [1, 2, 1]]],\n",
              "\n",
              "\n",
              "       [[[2, 1, 3],\n",
              "         [2, 2, 3],\n",
              "         [2, 0, 4]],\n",
              "\n",
              "        [[1, 3, 2],\n",
              "         [2, 3, 0],\n",
              "         [0, 4, 1]],\n",
              "\n",
              "        [[3, 2, 3],\n",
              "         [3, 0, 3],\n",
              "         [4, 1, 2]],\n",
              "\n",
              "        [[2, 3, 1],\n",
              "         [0, 3, 0],\n",
              "         [1, 2, 1]],\n",
              "\n",
              "        [[3, 1, 3],\n",
              "         [3, 0, 0],\n",
              "         [2, 1, 4]],\n",
              "\n",
              "        [[1, 3, 4],\n",
              "         [0, 0, 1],\n",
              "         [1, 4, 1]],\n",
              "\n",
              "        [[3, 4, 2],\n",
              "         [0, 1, 2],\n",
              "         [4, 1, 4]],\n",
              "\n",
              "        [[4, 2, 1],\n",
              "         [1, 2, 1],\n",
              "         [1, 4, 0]]],\n",
              "\n",
              "\n",
              "       [[[2, 2, 3],\n",
              "         [2, 0, 4],\n",
              "         [3, 0, 4]],\n",
              "\n",
              "        [[2, 3, 0],\n",
              "         [0, 4, 1],\n",
              "         [0, 4, 1]],\n",
              "\n",
              "        [[3, 0, 3],\n",
              "         [4, 1, 2],\n",
              "         [4, 1, 4]],\n",
              "\n",
              "        [[0, 3, 0],\n",
              "         [1, 2, 1],\n",
              "         [1, 4, 1]],\n",
              "\n",
              "        [[3, 0, 0],\n",
              "         [2, 1, 4],\n",
              "         [4, 1, 4]],\n",
              "\n",
              "        [[0, 0, 1],\n",
              "         [1, 4, 1],\n",
              "         [1, 4, 4]],\n",
              "\n",
              "        [[0, 1, 2],\n",
              "         [4, 1, 4],\n",
              "         [4, 4, 3]],\n",
              "\n",
              "        [[1, 2, 1],\n",
              "         [1, 4, 0],\n",
              "         [4, 3, 1]]],\n",
              "\n",
              "\n",
              "       [[[2, 0, 4],\n",
              "         [3, 0, 4],\n",
              "         [1, 4, 2]],\n",
              "\n",
              "        [[0, 4, 1],\n",
              "         [0, 4, 1],\n",
              "         [4, 2, 4]],\n",
              "\n",
              "        [[4, 1, 2],\n",
              "         [4, 1, 4],\n",
              "         [2, 4, 3]],\n",
              "\n",
              "        [[1, 2, 1],\n",
              "         [1, 4, 1],\n",
              "         [4, 3, 0]],\n",
              "\n",
              "        [[2, 1, 4],\n",
              "         [4, 1, 4],\n",
              "         [3, 0, 4]],\n",
              "\n",
              "        [[1, 4, 1],\n",
              "         [1, 4, 4],\n",
              "         [0, 4, 4]],\n",
              "\n",
              "        [[4, 1, 4],\n",
              "         [4, 4, 3],\n",
              "         [4, 4, 2]],\n",
              "\n",
              "        [[1, 4, 0],\n",
              "         [4, 3, 1],\n",
              "         [4, 2, 1]]],\n",
              "\n",
              "\n",
              "       [[[3, 0, 4],\n",
              "         [1, 4, 2],\n",
              "         [0, 3, 0]],\n",
              "\n",
              "        [[0, 4, 1],\n",
              "         [4, 2, 4],\n",
              "         [3, 0, 3]],\n",
              "\n",
              "        [[4, 1, 4],\n",
              "         [2, 4, 3],\n",
              "         [0, 3, 3]],\n",
              "\n",
              "        [[1, 4, 1],\n",
              "         [4, 3, 0],\n",
              "         [3, 3, 0]],\n",
              "\n",
              "        [[4, 1, 4],\n",
              "         [3, 0, 4],\n",
              "         [3, 0, 4]],\n",
              "\n",
              "        [[1, 4, 4],\n",
              "         [0, 4, 4],\n",
              "         [0, 4, 1]],\n",
              "\n",
              "        [[4, 4, 3],\n",
              "         [4, 4, 2],\n",
              "         [4, 1, 1]],\n",
              "\n",
              "        [[4, 3, 1],\n",
              "         [4, 2, 1],\n",
              "         [1, 1, 0]]],\n",
              "\n",
              "\n",
              "       [[[1, 4, 2],\n",
              "         [0, 3, 0],\n",
              "         [2, 2, 4]],\n",
              "\n",
              "        [[4, 2, 4],\n",
              "         [3, 0, 3],\n",
              "         [2, 4, 4]],\n",
              "\n",
              "        [[2, 4, 3],\n",
              "         [0, 3, 3],\n",
              "         [4, 4, 3]],\n",
              "\n",
              "        [[4, 3, 0],\n",
              "         [3, 3, 0],\n",
              "         [4, 3, 1]],\n",
              "\n",
              "        [[3, 0, 4],\n",
              "         [3, 0, 4],\n",
              "         [3, 1, 2]],\n",
              "\n",
              "        [[0, 4, 4],\n",
              "         [0, 4, 1],\n",
              "         [1, 2, 2]],\n",
              "\n",
              "        [[4, 4, 2],\n",
              "         [4, 1, 1],\n",
              "         [2, 2, 0]],\n",
              "\n",
              "        [[4, 2, 1],\n",
              "         [1, 1, 0],\n",
              "         [2, 0, 1]]],\n",
              "\n",
              "\n",
              "       [[[0, 3, 0],\n",
              "         [2, 2, 4],\n",
              "         [3, 3, 1]],\n",
              "\n",
              "        [[3, 0, 3],\n",
              "         [2, 4, 4],\n",
              "         [3, 1, 4]],\n",
              "\n",
              "        [[0, 3, 3],\n",
              "         [4, 4, 3],\n",
              "         [1, 4, 3]],\n",
              "\n",
              "        [[3, 3, 0],\n",
              "         [4, 3, 1],\n",
              "         [4, 3, 0]],\n",
              "\n",
              "        [[3, 0, 4],\n",
              "         [3, 1, 2],\n",
              "         [3, 0, 3]],\n",
              "\n",
              "        [[0, 4, 1],\n",
              "         [1, 2, 2],\n",
              "         [0, 3, 4]],\n",
              "\n",
              "        [[4, 1, 1],\n",
              "         [2, 2, 0],\n",
              "         [3, 4, 3]],\n",
              "\n",
              "        [[1, 1, 0],\n",
              "         [2, 0, 1],\n",
              "         [4, 3, 0]]],\n",
              "\n",
              "\n",
              "       [[[2, 2, 4],\n",
              "         [3, 3, 1],\n",
              "         [1, 4, 4]],\n",
              "\n",
              "        [[2, 4, 4],\n",
              "         [3, 1, 4],\n",
              "         [4, 4, 0]],\n",
              "\n",
              "        [[4, 4, 3],\n",
              "         [1, 4, 3],\n",
              "         [4, 0, 0]],\n",
              "\n",
              "        [[4, 3, 1],\n",
              "         [4, 3, 0],\n",
              "         [0, 0, 4]],\n",
              "\n",
              "        [[3, 1, 2],\n",
              "         [3, 0, 3],\n",
              "         [0, 4, 0]],\n",
              "\n",
              "        [[1, 2, 2],\n",
              "         [0, 3, 4],\n",
              "         [4, 0, 2]],\n",
              "\n",
              "        [[2, 2, 0],\n",
              "         [3, 4, 3],\n",
              "         [0, 2, 3]],\n",
              "\n",
              "        [[2, 0, 1],\n",
              "         [4, 3, 0],\n",
              "         [2, 3, 4]]]])"
            ]
          },
          "metadata": {
            "tags": []
          },
          "execution_count": 18
        }
      ]
    },
    {
      "cell_type": "markdown",
      "metadata": {
        "id": "gqnunb0YyX5a"
      },
      "source": [
        "11.Рассмотрим множество матриц (n,n) и множество из p векторов (n,1). Посчитать сумму p произведений матриц (результат имеет размерность (n,1))"
      ]
    },
    {
      "cell_type": "code",
      "metadata": {
        "colab": {
          "base_uri": "https://localhost:8080/"
        },
        "id": "f1cYc1MMydIm",
        "outputId": "7b9c2467-5d09-4d2c-8539-c0952086fe64"
      },
      "source": [
        "p, n = 10, 20\n",
        "M = np.ones((p,n,n))\n",
        "V = np.ones((p,n,1))\n",
        "S = np.tensordot(M, V, axes=[[0, 2], [0, 1]])\n",
        "S"
      ],
      "execution_count": 19,
      "outputs": [
        {
          "output_type": "execute_result",
          "data": {
            "text/plain": [
              "array([[200.],\n",
              "       [200.],\n",
              "       [200.],\n",
              "       [200.],\n",
              "       [200.],\n",
              "       [200.],\n",
              "       [200.],\n",
              "       [200.],\n",
              "       [200.],\n",
              "       [200.],\n",
              "       [200.],\n",
              "       [200.],\n",
              "       [200.],\n",
              "       [200.],\n",
              "       [200.],\n",
              "       [200.],\n",
              "       [200.],\n",
              "       [200.],\n",
              "       [200.],\n",
              "       [200.]])"
            ]
          },
          "metadata": {
            "tags": []
          },
          "execution_count": 19
        }
      ]
    },
    {
      "cell_type": "markdown",
      "metadata": {
        "id": "qxmLDn1wyfgT"
      },
      "source": [
        "12.Дан массив 16x16, посчитать сумму по блокам 4x4"
      ]
    },
    {
      "cell_type": "code",
      "metadata": {
        "colab": {
          "base_uri": "https://localhost:8080/"
        },
        "id": "iZZGKpd6yh-9",
        "outputId": "bc2961c9-30a2-4489-ccaf-16330ea94337"
      },
      "source": [
        "Z = np.ones((16,16))\n",
        "k = 4\n",
        "S = np.add.reduceat(np.add.reduceat(Z, np.arange(0, Z.shape[0], k), axis=0),\n",
        "                                       np.arange(0, Z.shape[1], k), axis=1)\n",
        "S"
      ],
      "execution_count": 20,
      "outputs": [
        {
          "output_type": "execute_result",
          "data": {
            "text/plain": [
              "array([[16., 16., 16., 16.],\n",
              "       [16., 16., 16., 16.],\n",
              "       [16., 16., 16., 16.],\n",
              "       [16., 16., 16., 16.]])"
            ]
          },
          "metadata": {
            "tags": []
          },
          "execution_count": 20
        }
      ]
    },
    {
      "cell_type": "markdown",
      "metadata": {
        "id": "BdjEyA-8ylcV"
      },
      "source": [
        "13.Найти n наибольших значений в массиве"
      ]
    },
    {
      "cell_type": "code",
      "metadata": {
        "colab": {
          "base_uri": "https://localhost:8080/"
        },
        "id": "2SpMDlMPynQL",
        "outputId": "d8ec65ac-e9fa-48e9-a799-3a8c38a652c5"
      },
      "source": [
        "\n",
        "Z = np.arange(10000)\n",
        "np.random.shuffle(Z)\n",
        "n = 5\n",
        "\n",
        "print (Z[np.argpartition(-Z,n)[:n]])"
      ],
      "execution_count": 21,
      "outputs": [
        {
          "output_type": "stream",
          "text": [
            "[9998 9999 9996 9995 9997]\n"
          ],
          "name": "stdout"
        }
      ]
    },
    {
      "cell_type": "markdown",
      "metadata": {
        "id": "A-Oo7x7ZyqwG"
      },
      "source": [
        "14.Построить прямое произведение массивов (все комбинации с каждым элементом)"
      ]
    },
    {
      "cell_type": "code",
      "metadata": {
        "colab": {
          "base_uri": "https://localhost:8080/"
        },
        "id": "YhEog_asysoE",
        "outputId": "d3316339-9504-4115-de39-8bb414033971"
      },
      "source": [
        "def cartesian(arrays):\n",
        "    arrays = [np.asarray(a) for a in arrays]\n",
        "    shape = map(len, arrays)\n",
        "\n",
        "    ix = np.indices(shape, dtype=int)\n",
        "    ix = ix.reshape(len(arrays), -1).T\n",
        "\n",
        "    for n, arr in enumerate(arrays):\n",
        "        ix[:, n] = arrays[n][ix[:, n]]\n",
        "\n",
        "    return ix\n",
        "\n",
        "print(cartesian(([1, 2, 3], [4, 5], [6, 7])))"
      ],
      "execution_count": 22,
      "outputs": [
        {
          "output_type": "stream",
          "text": [
            "[[1 4 6]\n",
            " [1 4 7]\n",
            " [1 5 6]\n",
            " [1 5 7]\n",
            " [2 4 6]\n",
            " [2 4 7]\n",
            " [2 5 6]\n",
            " [2 5 7]\n",
            " [3 4 6]\n",
            " [3 4 7]\n",
            " [3 5 6]\n",
            " [3 5 7]]\n"
          ],
          "name": "stdout"
        }
      ]
    },
    {
      "cell_type": "markdown",
      "metadata": {
        "id": "SyEQRHhXywBt"
      },
      "source": [
        "15.Даны 2 массива A (8x3) и B (2x2). Найти строки в A, которые содержат элементы из каждой строки в B, независимо от порядка элементов в B"
      ]
    },
    {
      "cell_type": "code",
      "metadata": {
        "colab": {
          "base_uri": "https://localhost:8080/"
        },
        "id": "_wJV30oFyyTT",
        "outputId": "58b60b80-f1c6-46a8-a074-c3b84b5fa4af"
      },
      "source": [
        "A = np.random.randint(0,5,(8,3))\n",
        "B = np.random.randint(0,5,(2,2))\n",
        "\n",
        "C = (A[..., np.newaxis, np.newaxis] == B)\n",
        "rows = (C.sum(axis=(1,2,3)) >= B.shape[1]).nonzero()[0]\n",
        "print(rows)"
      ],
      "execution_count": 24,
      "outputs": [
        {
          "output_type": "stream",
          "text": [
            "[0 2 4 5 6 7]\n"
          ],
          "name": "stdout"
        }
      ]
    },
    {
      "cell_type": "markdown",
      "metadata": {
        "id": "h0sulROFy0CA"
      },
      "source": [
        "16.Дана 10x3 матрица, найти строки из неравных значений (например [2,2,3])"
      ]
    },
    {
      "cell_type": "code",
      "metadata": {
        "colab": {
          "base_uri": "https://localhost:8080/"
        },
        "id": "FrrUfROCy5zn",
        "outputId": "aab84f28-4513-4b92-e608-a79347e7a3eb"
      },
      "source": [
        "Z = np.random.randint(0,5,(10,3))\n",
        "E = np.logical_and.reduce(Z[:,1:] == Z[:,:-1], axis=1)\n",
        "U = Z[~E]\n",
        "print(Z, '\\n')\n",
        "print(U)"
      ],
      "execution_count": 25,
      "outputs": [
        {
          "output_type": "stream",
          "text": [
            "[[0 3 0]\n",
            " [0 1 0]\n",
            " [3 3 4]\n",
            " [4 4 0]\n",
            " [1 2 1]\n",
            " [3 3 3]\n",
            " [0 4 3]\n",
            " [3 0 4]\n",
            " [1 3 4]\n",
            " [0 3 4]] \n",
            "\n",
            "[[0 3 0]\n",
            " [0 1 0]\n",
            " [3 3 4]\n",
            " [4 4 0]\n",
            " [1 2 1]\n",
            " [0 4 3]\n",
            " [3 0 4]\n",
            " [1 3 4]\n",
            " [0 3 4]]\n"
          ],
          "name": "stdout"
        }
      ]
    },
    {
      "cell_type": "markdown",
      "metadata": {
        "id": "Ts7DauFWy8ZX"
      },
      "source": [
        "17.Преобразовать вектор чисел в матрицу бинарных представлений"
      ]
    },
    {
      "cell_type": "code",
      "metadata": {
        "colab": {
          "base_uri": "https://localhost:8080/"
        },
        "id": "EAWydVIty-fQ",
        "outputId": "6da39781-7d96-4e42-862a-f08eafb7e06d"
      },
      "source": [
        "I = np.array([0, 1, 2, 3, 15, 16, 32, 64, 128], dtype=np.uint8)\n",
        "print(np.unpackbits(I[:, np.newaxis], axis=1))"
      ],
      "execution_count": 26,
      "outputs": [
        {
          "output_type": "stream",
          "text": [
            "[[0 0 0 0 0 0 0 0]\n",
            " [0 0 0 0 0 0 0 1]\n",
            " [0 0 0 0 0 0 1 0]\n",
            " [0 0 0 0 0 0 1 1]\n",
            " [0 0 0 0 1 1 1 1]\n",
            " [0 0 0 1 0 0 0 0]\n",
            " [0 0 1 0 0 0 0 0]\n",
            " [0 1 0 0 0 0 0 0]\n",
            " [1 0 0 0 0 0 0 0]]\n"
          ],
          "name": "stdout"
        }
      ]
    },
    {
      "cell_type": "markdown",
      "metadata": {
        "id": "VWbFf1tWzBQz"
      },
      "source": [
        "18.Дан двумерный массив. Найти все различные строки"
      ]
    },
    {
      "cell_type": "code",
      "metadata": {
        "colab": {
          "base_uri": "https://localhost:8080/"
        },
        "id": "Q2MAvOJxzD0_",
        "outputId": "2ee7cfee-e98f-47fd-c80b-5cbda9a55c2e"
      },
      "source": [
        "Z = np.random.randint(0, 2, (6,3))\n",
        "T = np.ascontiguousarray(Z).view(np.dtype((np.void, Z.dtype.itemsize * Z.shape[1])))\n",
        "_, idx = np.unique(T, return_index=True)\n",
        "uZ = Z[idx]\n",
        "print(uZ)"
      ],
      "execution_count": 27,
      "outputs": [
        {
          "output_type": "stream",
          "text": [
            "[[0 0 0]\n",
            " [0 1 0]\n",
            " [1 0 1]\n",
            " [1 1 1]]\n"
          ],
          "name": "stdout"
        }
      ]
    },
    {
      "cell_type": "markdown",
      "metadata": {
        "id": "sOgarSGwzGtV"
      },
      "source": [
        "19.Даны векторы A и B, написать einsum эквиваленты функций inner, outer, sum и mul"
      ]
    },
    {
      "cell_type": "code",
      "metadata": {
        "colab": {
          "base_uri": "https://localhost:8080/"
        },
        "id": "qcuFbeRrzI2Q",
        "outputId": "c1e4aeef-edde-4633-f9b6-23ef8952e296"
      },
      "source": [
        "A = np.random.random((10,))\n",
        "B = np.random.random((10,))\n",
        "\n",
        "np.einsum('i->', A)       # np.sum(A)"
      ],
      "execution_count": 28,
      "outputs": [
        {
          "output_type": "execute_result",
          "data": {
            "text/plain": [
              "4.650693118421243"
            ]
          },
          "metadata": {
            "tags": []
          },
          "execution_count": 28
        }
      ]
    },
    {
      "cell_type": "code",
      "metadata": {
        "colab": {
          "base_uri": "https://localhost:8080/"
        },
        "id": "t4I-LI65zSVw",
        "outputId": "ccb9c98b-0af4-4640-c98b-dc8af978206b"
      },
      "source": [
        "np.einsum('i,i->i', A, B) # A * B"
      ],
      "execution_count": 29,
      "outputs": [
        {
          "output_type": "execute_result",
          "data": {
            "text/plain": [
              "array([0.10936029, 0.04207389, 0.14657439, 0.73929255, 0.25607208,\n",
              "       0.86625257, 0.16140497, 0.24380732, 0.00593783, 0.08774724])"
            ]
          },
          "metadata": {
            "tags": []
          },
          "execution_count": 29
        }
      ]
    },
    {
      "cell_type": "code",
      "metadata": {
        "colab": {
          "base_uri": "https://localhost:8080/"
        },
        "id": "a1Jl_mK8zV0M",
        "outputId": "522f79c2-f627-4322-f4d4-728ff6b75839"
      },
      "source": [
        "np.einsum('i,i', A, B)    # np.inner(A, B)"
      ],
      "execution_count": 30,
      "outputs": [
        {
          "output_type": "execute_result",
          "data": {
            "text/plain": [
              "2.6585231340950335"
            ]
          },
          "metadata": {
            "tags": []
          },
          "execution_count": 30
        }
      ]
    },
    {
      "cell_type": "code",
      "metadata": {
        "colab": {
          "base_uri": "https://localhost:8080/"
        },
        "id": "4prpHatczYfr",
        "outputId": "874efaae-60db-4faa-cec5-987b21ae2873"
      },
      "source": [
        "np.einsum('i,j', A, B)    # np.outer(A, B)"
      ],
      "execution_count": 31,
      "outputs": [
        {
          "output_type": "execute_result",
          "data": {
            "text/plain": [
              "array([[0.10936029, 0.16576242, 0.10965616, 0.17181958, 0.10345752,\n",
              "        0.21327911, 0.05980974, 0.10967737, 0.00830419, 0.0584683 ],\n",
              "       [0.02775788, 0.04207389, 0.02783297, 0.04361132, 0.02625963,\n",
              "        0.0541346 , 0.01518093, 0.02783836, 0.00210777, 0.01484045],\n",
              "       [0.14617891, 0.22157009, 0.14657439, 0.22966654, 0.13828883,\n",
              "        0.28508434, 0.07994604, 0.14660274, 0.01109999, 0.07815297],\n",
              "       [0.47054735, 0.71323023, 0.47182038, 0.73929255, 0.44514932,\n",
              "        0.9176815 , 0.2573449 , 0.47191163, 0.03573067, 0.25157304],\n",
              "       [0.2706823 , 0.41028559, 0.27141461, 0.42527793, 0.25607208,\n",
              "        0.52789616, 0.14803762, 0.2714671 , 0.02055406, 0.14471736],\n",
              "       [0.44417682, 0.67325921, 0.4453785 , 0.69786093, 0.42020215,\n",
              "        0.86625257, 0.24292271, 0.44546465, 0.03372824, 0.23747432],\n",
              "       [0.2951241 , 0.44733315, 0.29592253, 0.46367926, 0.27919463,\n",
              "        0.5755636 , 0.16140497, 0.29597977, 0.02241003, 0.1577849 ],\n",
              "       [0.24310248, 0.3684816 , 0.24376018, 0.38194637, 0.2299809 ,\n",
              "        0.47410882, 0.13295407, 0.24380732, 0.01845981, 0.12997211],\n",
              "       [0.07819698, 0.11852675, 0.07840853, 0.12285786, 0.07397625,\n",
              "        0.15250307, 0.04276635, 0.0784237 , 0.00593783, 0.04180716],\n",
              "       [0.16412423, 0.24877063, 0.16456825, 0.25786102, 0.15526554,\n",
              "        0.32008206, 0.08976043, 0.16460008, 0.01246265, 0.08774724]])"
            ]
          },
          "metadata": {
            "tags": []
          },
          "execution_count": 31
        }
      ]
    }
  ]
}