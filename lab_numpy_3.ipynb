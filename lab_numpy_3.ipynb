{
  "nbformat": 4,
  "nbformat_minor": 0,
  "metadata": {
    "colab": {
      "name": "lab_numpy_3.ipynb",
      "provenance": [],
      "collapsed_sections": []
    },
    "kernelspec": {
      "name": "python3",
      "display_name": "Python 3"
    }
  },
  "cells": [
    {
      "cell_type": "markdown",
      "metadata": {
        "id": "MLQIrDP6wsZp"
      },
      "source": [
        "# Московский авиационный институт (Национальный исследовательский университет)\r\n",
        "## Лабораторная работа №4\r\n",
        "## \"Pandas\"\r\n",
        "### Выполнила: студентка группы Т12О-101М-20\r\n",
        "### Лёдова Кристина Владимировна\r\n",
        "### Преподаватель: Поповкин Александр Викторович\r\n",
        "### Москва\r\n",
        "### 2020 г."
      ]
    },
    {
      "cell_type": "code",
      "metadata": {
        "id": "Of2qymnFw04e"
      },
      "source": [
        "import numpy as np\n"
      ],
      "execution_count": null,
      "outputs": []
    },
    {
      "cell_type": "markdown",
      "metadata": {
        "id": "FYYyZyvkw8KA"
      },
      "source": [
        "1.Дан вектор [1, 2, 3, 4, 5], построить новый вектор с тремя нулями между каждым значением"
      ]
    },
    {
      "cell_type": "code",
      "metadata": {
        "colab": {
          "base_uri": "https://localhost:8080/"
        },
        "id": "1Mf_qJSHxAfu",
        "outputId": "b25b5977-617d-45af-db03-5360fdeab036"
      },
      "source": [
        "a = np.array([1,2,3,4,5])\n",
        "\n",
        "zero = np.zeros(len(a) + (len(a)-1)*3)\n",
        "print(zero)\n",
        "zero[::4] = a\n",
        "print(zero)"
      ],
      "execution_count": null,
      "outputs": [
        {
          "output_type": "stream",
          "text": [
            "[0. 0. 0. 0. 0. 0. 0. 0. 0. 0. 0. 0. 0. 0. 0. 0. 0.]\n",
            "[1. 0. 0. 0. 2. 0. 0. 0. 3. 0. 0. 0. 4. 0. 0. 0. 5.]\n"
          ],
          "name": "stdout"
        }
      ]
    },
    {
      "cell_type": "markdown",
      "metadata": {
        "id": "FD2EUuNUxL5a"
      },
      "source": [
        "2.Поменять 2 строки в матрице"
      ]
    },
    {
      "cell_type": "code",
      "metadata": {
        "colab": {
          "base_uri": "https://localhost:8080/"
        },
        "id": "uMrJ7kK1xOgD",
        "outputId": "1cf81719-47d8-4800-967f-1a1c9f410616"
      },
      "source": [
        "A = np.arange(25).reshape(5,5)\n",
        "print(A, '\\n')\n",
        "A[[0,1]] = A[[1,0]]\n",
        "print(A)\n"
      ],
      "execution_count": null,
      "outputs": [
        {
          "output_type": "stream",
          "text": [
            "[[ 0  1  2  3  4]\n",
            " [ 5  6  7  8  9]\n",
            " [10 11 12 13 14]\n",
            " [15 16 17 18 19]\n",
            " [20 21 22 23 24]] \n",
            "\n",
            "[[ 5  6  7  8  9]\n",
            " [ 0  1  2  3  4]\n",
            " [10 11 12 13 14]\n",
            " [15 16 17 18 19]\n",
            " [20 21 22 23 24]]\n"
          ],
          "name": "stdout"
        }
      ]
    },
    {
      "cell_type": "markdown",
      "metadata": {
        "id": "oBRBMkexxUcX"
      },
      "source": [
        "3.Рассмотрим набор из 10 троек, описывающих 10 треугольников (с общими вершинами), найти множество уникальных отрезков, составляющих все треугольники"
      ]
    },
    {
      "cell_type": "code",
      "metadata": {
        "colab": {
          "base_uri": "https://localhost:8080/"
        },
        "id": "Mzo0r7FLxbHy",
        "outputId": "a7b8b6fe-869e-4ca7-ea90-27cad0cd4681"
      },
      "source": [
        "set_of_points = np.random.randint(0,30,(10,3))\n",
        "a = np.roll(set_of_points.repeat(2,axis=1),-1,axis=1)\n",
        "a = a.reshape(len(a)*3,2)\n",
        "a = np.sort(a,axis=1)\n",
        "b = a.view( dtype=[('p0',a.dtype),('p1',a.dtype)] )\n",
        "b = np.unique(b)\n",
        "print(b)"
      ],
      "execution_count": null,
      "outputs": [
        {
          "output_type": "stream",
          "text": [
            "[( 1,  2) ( 1, 19) ( 2, 19) ( 4,  6) ( 4,  8) ( 4, 14) ( 4, 21) ( 4, 22)\n",
            " ( 5, 11) ( 5, 21) ( 6,  8) ( 6, 14) (10, 26) (10, 27) (11, 21) (12, 25)\n",
            " (12, 27) (15, 18) (15, 27) (18, 21) (18, 27) (19, 19) (19, 29) (21, 21)\n",
            " (21, 22) (25, 27) (26, 27)]\n"
          ],
          "name": "stdout"
        }
      ]
    },
    {
      "cell_type": "markdown",
      "metadata": {
        "id": "qrtelprDxdn3"
      },
      "source": [
        "4.Дан массив C; создать массив A, что np.bincount(A) == C"
      ]
    },
    {
      "cell_type": "code",
      "metadata": {
        "colab": {
          "base_uri": "https://localhost:8080/"
        },
        "id": "bFDZO3Y-xgfl",
        "outputId": "090674b4-5d30-4d6b-921c-c32741c13bcf"
      },
      "source": [
        "C = np.bincount([1,1,2,3,4,4,6])\n",
        "\n",
        "np.repeat(np.arange(len(C)), C)"
      ],
      "execution_count": null,
      "outputs": [
        {
          "output_type": "execute_result",
          "data": {
            "text/plain": [
              "array([1, 1, 2, 3, 4, 4, 6])"
            ]
          },
          "metadata": {
            "tags": []
          },
          "execution_count": 8
        }
      ]
    },
    {
      "cell_type": "markdown",
      "metadata": {
        "id": "oc9C1KOKxsOT"
      },
      "source": [
        "5.Дан вектор Z, построить матрицу, первая строка которой (Z[0],Z[1],Z[2]), каждая последующая сдвинута на 1 (последняя (Z[-3],Z[-2],Z[-1]))"
      ]
    },
    {
      "cell_type": "code",
      "metadata": {
        "colab": {
          "base_uri": "https://localhost:8080/"
        },
        "id": "-sjppJ4_xtEs",
        "outputId": "b2ef685e-74c7-4471-9458-3f0cf18fa1da"
      },
      "source": [
        "from numpy.lib import stride_tricks\n",
        "\n",
        "def rolling(a, window):\n",
        "    shape = (a.size - window + 1, window)\n",
        "    strides = (a.itemsize, a.itemsize)\n",
        "    return stride_tricks.as_strided(a, shape=shape, strides=strides)\n",
        "Z = rolling(np.arange(10), 3)\n",
        "print(Z)"
      ],
      "execution_count": null,
      "outputs": [
        {
          "output_type": "stream",
          "text": [
            "[[0 1 2]\n",
            " [1 2 3]\n",
            " [2 3 4]\n",
            " [3 4 5]\n",
            " [4 5 6]\n",
            " [5 6 7]\n",
            " [6 7 8]\n",
            " [7 8 9]]\n"
          ],
          "name": "stdout"
        }
      ]
    },
    {
      "cell_type": "markdown",
      "metadata": {
        "id": "NaUURSnzxxIC"
      },
      "source": [
        "6.Инвертировать булево значение, или поменять знак у числового массива без создания нового"
      ]
    },
    {
      "cell_type": "code",
      "metadata": {
        "colab": {
          "base_uri": "https://localhost:8080/"
        },
        "id": "QTepOTsixzS8",
        "outputId": "89d957bc-a3d8-488a-c998-3825542f5ec9"
      },
      "source": [
        "a = np.random.randint(0,2,10)\n",
        "print(a)\n",
        "np.logical_not(a, out=a)\n",
        "print(a)"
      ],
      "execution_count": null,
      "outputs": [
        {
          "output_type": "stream",
          "text": [
            "[1 0 0 1 1 0 0 0 1 1]\n",
            "[0 1 1 0 0 1 1 1 0 0]\n"
          ],
          "name": "stdout"
        }
      ]
    },
    {
      "cell_type": "code",
      "metadata": {
        "colab": {
          "base_uri": "https://localhost:8080/"
        },
        "id": "UXQEzvRryA7_",
        "outputId": "3cafd3ea-28e1-4ce3-984b-f1d0b406d46f"
      },
      "source": [
        "a = np.random.randint(-1,2,10)\n",
        "print(a)\n",
        "np.negative(a, out=a)\n",
        "print(a)"
      ],
      "execution_count": null,
      "outputs": [
        {
          "output_type": "stream",
          "text": [
            "[ 1  1 -1  0  0  0 -1  0 -1  0]\n",
            "[-1 -1  1  0  0  0  1  0  1  0]\n"
          ],
          "name": "stdout"
        }
      ]
    },
    {
      "cell_type": "markdown",
      "metadata": {
        "id": "sYcb-2T-yEsU"
      },
      "source": [
        "7.Посчитать ранг матрицы"
      ]
    },
    {
      "cell_type": "code",
      "metadata": {
        "colab": {
          "base_uri": "https://localhost:8080/"
        },
        "id": "Q4WczlObyH-O",
        "outputId": "507847a9-3dc8-4d3c-b92e-16671c5a2a38"
      },
      "source": [
        "a = np.random.uniform(0,1,(5,5))\n",
        "rank = np.linalg.matrix_rank(a)\n",
        "print(a)\n",
        "print(rank)"
      ],
      "execution_count": null,
      "outputs": [
        {
          "output_type": "stream",
          "text": [
            "[[0.40188774 0.81066028 0.72907637 0.39844312 0.63596089]\n",
            " [0.19218887 0.762774   0.31121785 0.89866538 0.98939188]\n",
            " [0.81039557 0.82165538 0.45888115 0.45182163 0.54840691]\n",
            " [0.82566427 0.78859804 0.52123366 0.18577194 0.32841351]\n",
            " [0.69018162 0.10518324 0.92981812 0.32076538 0.75910332]]\n",
            "5\n"
          ],
          "name": "stdout"
        }
      ]
    },
    {
      "cell_type": "markdown",
      "metadata": {
        "id": "UdllxNCpyLVd"
      },
      "source": [
        "8.Найти наиболее частое значение в массиве"
      ]
    },
    {
      "cell_type": "code",
      "metadata": {
        "colab": {
          "base_uri": "https://localhost:8080/"
        },
        "id": "AerJmPYkyPEi",
        "outputId": "c40316f5-d4f6-4f5c-93f3-c0a49ce6107e"
      },
      "source": [
        "Z = np.random.randint(0,10,50)\n",
        "print(Z)\n",
        "print(np.bincount(Z).argmax())"
      ],
      "execution_count": null,
      "outputs": [
        {
          "output_type": "stream",
          "text": [
            "[4 2 3 1 2 8 2 3 4 1 9 1 6 3 5 0 6 0 6 6 5 3 3 8 2 0 6 3 3 3 8 3 1 7 0 1 5\n",
            " 7 8 1 1 6 0 9 4 8 4 4 0 7]\n",
            "3\n"
          ],
          "name": "stdout"
        }
      ]
    },
    {
      "cell_type": "markdown",
      "metadata": {
        "id": "V4sTgtk6yUhA"
      },
      "source": [
        "9.Извлечь все смежные 3x3 блоки из 10x10 матрицы"
      ]
    },
    {
      "cell_type": "code",
      "metadata": {
        "colab": {
          "base_uri": "https://localhost:8080/"
        },
        "id": "3bWbAj7NyU-1",
        "outputId": "34b427a6-4c70-4665-85ec-4203568688ff"
      },
      "source": [
        "from numpy.lib import stride_tricks\n",
        "\n",
        "Z = np.random.randint(0,5,(10,10))\n",
        "n = 3\n",
        "i = 1 + (Z.shape[0] - n)\n",
        "j = 1 + (Z.shape[1] - n)\n",
        "C = stride_tricks.as_strided(Z, shape=(i, j, n, n), strides=Z.strides + Z.strides)\n",
        "C"
      ],
      "execution_count": null,
      "outputs": [
        {
          "output_type": "execute_result",
          "data": {
            "text/plain": [
              "array([[[[2, 4, 3],\n",
              "         [0, 4, 0],\n",
              "         [2, 2, 3]],\n",
              "\n",
              "        [[4, 3, 1],\n",
              "         [4, 0, 1],\n",
              "         [2, 3, 3]],\n",
              "\n",
              "        [[3, 1, 3],\n",
              "         [0, 1, 3],\n",
              "         [3, 3, 3]],\n",
              "\n",
              "        [[1, 3, 3],\n",
              "         [1, 3, 3],\n",
              "         [3, 3, 3]],\n",
              "\n",
              "        [[3, 3, 1],\n",
              "         [3, 3, 0],\n",
              "         [3, 3, 4]],\n",
              "\n",
              "        [[3, 1, 2],\n",
              "         [3, 0, 2],\n",
              "         [3, 4, 0]],\n",
              "\n",
              "        [[1, 2, 2],\n",
              "         [0, 2, 3],\n",
              "         [4, 0, 3]],\n",
              "\n",
              "        [[2, 2, 1],\n",
              "         [2, 3, 3],\n",
              "         [0, 3, 0]]],\n",
              "\n",
              "\n",
              "       [[[0, 4, 0],\n",
              "         [2, 2, 3],\n",
              "         [2, 1, 4]],\n",
              "\n",
              "        [[4, 0, 1],\n",
              "         [2, 3, 3],\n",
              "         [1, 4, 0]],\n",
              "\n",
              "        [[0, 1, 3],\n",
              "         [3, 3, 3],\n",
              "         [4, 0, 2]],\n",
              "\n",
              "        [[1, 3, 3],\n",
              "         [3, 3, 3],\n",
              "         [0, 2, 1]],\n",
              "\n",
              "        [[3, 3, 0],\n",
              "         [3, 3, 4],\n",
              "         [2, 1, 3]],\n",
              "\n",
              "        [[3, 0, 2],\n",
              "         [3, 4, 0],\n",
              "         [1, 3, 1]],\n",
              "\n",
              "        [[0, 2, 3],\n",
              "         [4, 0, 3],\n",
              "         [3, 1, 2]],\n",
              "\n",
              "        [[2, 3, 3],\n",
              "         [0, 3, 0],\n",
              "         [1, 2, 2]]],\n",
              "\n",
              "\n",
              "       [[[2, 2, 3],\n",
              "         [2, 1, 4],\n",
              "         [3, 1, 1]],\n",
              "\n",
              "        [[2, 3, 3],\n",
              "         [1, 4, 0],\n",
              "         [1, 1, 2]],\n",
              "\n",
              "        [[3, 3, 3],\n",
              "         [4, 0, 2],\n",
              "         [1, 2, 1]],\n",
              "\n",
              "        [[3, 3, 3],\n",
              "         [0, 2, 1],\n",
              "         [2, 1, 1]],\n",
              "\n",
              "        [[3, 3, 4],\n",
              "         [2, 1, 3],\n",
              "         [1, 1, 2]],\n",
              "\n",
              "        [[3, 4, 0],\n",
              "         [1, 3, 1],\n",
              "         [1, 2, 1]],\n",
              "\n",
              "        [[4, 0, 3],\n",
              "         [3, 1, 2],\n",
              "         [2, 1, 0]],\n",
              "\n",
              "        [[0, 3, 0],\n",
              "         [1, 2, 2],\n",
              "         [1, 0, 3]]],\n",
              "\n",
              "\n",
              "       [[[2, 1, 4],\n",
              "         [3, 1, 1],\n",
              "         [3, 1, 3]],\n",
              "\n",
              "        [[1, 4, 0],\n",
              "         [1, 1, 2],\n",
              "         [1, 3, 1]],\n",
              "\n",
              "        [[4, 0, 2],\n",
              "         [1, 2, 1],\n",
              "         [3, 1, 1]],\n",
              "\n",
              "        [[0, 2, 1],\n",
              "         [2, 1, 1],\n",
              "         [1, 1, 4]],\n",
              "\n",
              "        [[2, 1, 3],\n",
              "         [1, 1, 2],\n",
              "         [1, 4, 4]],\n",
              "\n",
              "        [[1, 3, 1],\n",
              "         [1, 2, 1],\n",
              "         [4, 4, 2]],\n",
              "\n",
              "        [[3, 1, 2],\n",
              "         [2, 1, 0],\n",
              "         [4, 2, 3]],\n",
              "\n",
              "        [[1, 2, 2],\n",
              "         [1, 0, 3],\n",
              "         [2, 3, 4]]],\n",
              "\n",
              "\n",
              "       [[[3, 1, 1],\n",
              "         [3, 1, 3],\n",
              "         [1, 4, 3]],\n",
              "\n",
              "        [[1, 1, 2],\n",
              "         [1, 3, 1],\n",
              "         [4, 3, 1]],\n",
              "\n",
              "        [[1, 2, 1],\n",
              "         [3, 1, 1],\n",
              "         [3, 1, 2]],\n",
              "\n",
              "        [[2, 1, 1],\n",
              "         [1, 1, 4],\n",
              "         [1, 2, 1]],\n",
              "\n",
              "        [[1, 1, 2],\n",
              "         [1, 4, 4],\n",
              "         [2, 1, 3]],\n",
              "\n",
              "        [[1, 2, 1],\n",
              "         [4, 4, 2],\n",
              "         [1, 3, 3]],\n",
              "\n",
              "        [[2, 1, 0],\n",
              "         [4, 2, 3],\n",
              "         [3, 3, 2]],\n",
              "\n",
              "        [[1, 0, 3],\n",
              "         [2, 3, 4],\n",
              "         [3, 2, 1]]],\n",
              "\n",
              "\n",
              "       [[[3, 1, 3],\n",
              "         [1, 4, 3],\n",
              "         [2, 3, 2]],\n",
              "\n",
              "        [[1, 3, 1],\n",
              "         [4, 3, 1],\n",
              "         [3, 2, 1]],\n",
              "\n",
              "        [[3, 1, 1],\n",
              "         [3, 1, 2],\n",
              "         [2, 1, 4]],\n",
              "\n",
              "        [[1, 1, 4],\n",
              "         [1, 2, 1],\n",
              "         [1, 4, 1]],\n",
              "\n",
              "        [[1, 4, 4],\n",
              "         [2, 1, 3],\n",
              "         [4, 1, 1]],\n",
              "\n",
              "        [[4, 4, 2],\n",
              "         [1, 3, 3],\n",
              "         [1, 1, 1]],\n",
              "\n",
              "        [[4, 2, 3],\n",
              "         [3, 3, 2],\n",
              "         [1, 1, 3]],\n",
              "\n",
              "        [[2, 3, 4],\n",
              "         [3, 2, 1],\n",
              "         [1, 3, 4]]],\n",
              "\n",
              "\n",
              "       [[[1, 4, 3],\n",
              "         [2, 3, 2],\n",
              "         [0, 3, 1]],\n",
              "\n",
              "        [[4, 3, 1],\n",
              "         [3, 2, 1],\n",
              "         [3, 1, 2]],\n",
              "\n",
              "        [[3, 1, 2],\n",
              "         [2, 1, 4],\n",
              "         [1, 2, 4]],\n",
              "\n",
              "        [[1, 2, 1],\n",
              "         [1, 4, 1],\n",
              "         [2, 4, 1]],\n",
              "\n",
              "        [[2, 1, 3],\n",
              "         [4, 1, 1],\n",
              "         [4, 1, 1]],\n",
              "\n",
              "        [[1, 3, 3],\n",
              "         [1, 1, 1],\n",
              "         [1, 1, 0]],\n",
              "\n",
              "        [[3, 3, 2],\n",
              "         [1, 1, 3],\n",
              "         [1, 0, 3]],\n",
              "\n",
              "        [[3, 2, 1],\n",
              "         [1, 3, 4],\n",
              "         [0, 3, 3]]],\n",
              "\n",
              "\n",
              "       [[[2, 3, 2],\n",
              "         [0, 3, 1],\n",
              "         [0, 2, 1]],\n",
              "\n",
              "        [[3, 2, 1],\n",
              "         [3, 1, 2],\n",
              "         [2, 1, 2]],\n",
              "\n",
              "        [[2, 1, 4],\n",
              "         [1, 2, 4],\n",
              "         [1, 2, 1]],\n",
              "\n",
              "        [[1, 4, 1],\n",
              "         [2, 4, 1],\n",
              "         [2, 1, 2]],\n",
              "\n",
              "        [[4, 1, 1],\n",
              "         [4, 1, 1],\n",
              "         [1, 2, 1]],\n",
              "\n",
              "        [[1, 1, 1],\n",
              "         [1, 1, 0],\n",
              "         [2, 1, 3]],\n",
              "\n",
              "        [[1, 1, 3],\n",
              "         [1, 0, 3],\n",
              "         [1, 3, 2]],\n",
              "\n",
              "        [[1, 3, 4],\n",
              "         [0, 3, 3],\n",
              "         [3, 2, 4]]]])"
            ]
          },
          "metadata": {
            "tags": []
          },
          "execution_count": 11
        }
      ]
    },
    {
      "cell_type": "markdown",
      "metadata": {
        "id": "gqnunb0YyX5a"
      },
      "source": [
        "10.Рассмотрим множество матриц (n,n) и множество из p векторов (n,1). Посчитать сумму p произведений матриц (результат имеет размерность (n,1))"
      ]
    },
    {
      "cell_type": "code",
      "metadata": {
        "colab": {
          "base_uri": "https://localhost:8080/"
        },
        "id": "f1cYc1MMydIm",
        "outputId": "7b9c2467-5d09-4d2c-8539-c0952086fe64"
      },
      "source": [
        "p, n = 10, 20\n",
        "M = np.ones((p,n,n))\n",
        "V = np.ones((p,n,1))\n",
        "S = np.tensordot(M, V, axes=[[0, 2], [0, 1]])\n",
        "S"
      ],
      "execution_count": null,
      "outputs": [
        {
          "output_type": "execute_result",
          "data": {
            "text/plain": [
              "array([[200.],\n",
              "       [200.],\n",
              "       [200.],\n",
              "       [200.],\n",
              "       [200.],\n",
              "       [200.],\n",
              "       [200.],\n",
              "       [200.],\n",
              "       [200.],\n",
              "       [200.],\n",
              "       [200.],\n",
              "       [200.],\n",
              "       [200.],\n",
              "       [200.],\n",
              "       [200.],\n",
              "       [200.],\n",
              "       [200.],\n",
              "       [200.],\n",
              "       [200.],\n",
              "       [200.]])"
            ]
          },
          "metadata": {
            "tags": []
          },
          "execution_count": 19
        }
      ]
    },
    {
      "cell_type": "markdown",
      "metadata": {
        "id": "qxmLDn1wyfgT"
      },
      "source": [
        "11.Дан массив 16x16, посчитать сумму по блокам 4x4"
      ]
    },
    {
      "cell_type": "code",
      "metadata": {
        "colab": {
          "base_uri": "https://localhost:8080/"
        },
        "id": "iZZGKpd6yh-9",
        "outputId": "843a266c-fcfe-4031-95b8-355b5167aba6"
      },
      "source": [
        "a = np.ones((16,16))\n",
        "print(a)\n",
        "k = 4\n",
        "b = np.add.reduceat(np.add.reduceat(a, np.arange(0, a.shape[0], k), axis=0),\n",
        "                                       np.arange(0, a.shape[1], k), axis=1)\n",
        "print(b)"
      ],
      "execution_count": null,
      "outputs": [
        {
          "output_type": "stream",
          "text": [
            "[[1. 1. 1. 1. 1. 1. 1. 1. 1. 1. 1. 1. 1. 1. 1. 1.]\n",
            " [1. 1. 1. 1. 1. 1. 1. 1. 1. 1. 1. 1. 1. 1. 1. 1.]\n",
            " [1. 1. 1. 1. 1. 1. 1. 1. 1. 1. 1. 1. 1. 1. 1. 1.]\n",
            " [1. 1. 1. 1. 1. 1. 1. 1. 1. 1. 1. 1. 1. 1. 1. 1.]\n",
            " [1. 1. 1. 1. 1. 1. 1. 1. 1. 1. 1. 1. 1. 1. 1. 1.]\n",
            " [1. 1. 1. 1. 1. 1. 1. 1. 1. 1. 1. 1. 1. 1. 1. 1.]\n",
            " [1. 1. 1. 1. 1. 1. 1. 1. 1. 1. 1. 1. 1. 1. 1. 1.]\n",
            " [1. 1. 1. 1. 1. 1. 1. 1. 1. 1. 1. 1. 1. 1. 1. 1.]\n",
            " [1. 1. 1. 1. 1. 1. 1. 1. 1. 1. 1. 1. 1. 1. 1. 1.]\n",
            " [1. 1. 1. 1. 1. 1. 1. 1. 1. 1. 1. 1. 1. 1. 1. 1.]\n",
            " [1. 1. 1. 1. 1. 1. 1. 1. 1. 1. 1. 1. 1. 1. 1. 1.]\n",
            " [1. 1. 1. 1. 1. 1. 1. 1. 1. 1. 1. 1. 1. 1. 1. 1.]\n",
            " [1. 1. 1. 1. 1. 1. 1. 1. 1. 1. 1. 1. 1. 1. 1. 1.]\n",
            " [1. 1. 1. 1. 1. 1. 1. 1. 1. 1. 1. 1. 1. 1. 1. 1.]\n",
            " [1. 1. 1. 1. 1. 1. 1. 1. 1. 1. 1. 1. 1. 1. 1. 1.]\n",
            " [1. 1. 1. 1. 1. 1. 1. 1. 1. 1. 1. 1. 1. 1. 1. 1.]]\n",
            "[[16. 16. 16. 16.]\n",
            " [16. 16. 16. 16.]\n",
            " [16. 16. 16. 16.]\n",
            " [16. 16. 16. 16.]]\n"
          ],
          "name": "stdout"
        }
      ]
    },
    {
      "cell_type": "markdown",
      "metadata": {
        "id": "BdjEyA-8ylcV"
      },
      "source": [
        "12.Найти n наибольших значений в массиве"
      ]
    },
    {
      "cell_type": "code",
      "metadata": {
        "colab": {
          "base_uri": "https://localhost:8080/"
        },
        "id": "2SpMDlMPynQL",
        "outputId": "c6a4bed3-f5ae-45f2-cb4d-d1804303448a"
      },
      "source": [
        "a = np.arange(100)\n",
        "np.random.shuffle(a)\n",
        "n = 5\n",
        "print(a[np.argpartition(-a,n)[:n]])"
      ],
      "execution_count": null,
      "outputs": [
        {
          "output_type": "stream",
          "text": [
            "[98 99 97 96 95]\n"
          ],
          "name": "stdout"
        }
      ]
    },
    {
      "cell_type": "markdown",
      "metadata": {
        "id": "A-Oo7x7ZyqwG"
      },
      "source": [
        "13.Построить прямое произведение массивов (все комбинации с каждым элементом)"
      ]
    },
    {
      "cell_type": "code",
      "metadata": {
        "colab": {
          "base_uri": "https://localhost:8080/"
        },
        "id": "YhEog_asysoE",
        "outputId": "d3316339-9504-4115-de39-8bb414033971"
      },
      "source": [
        "def cartesian(arrays):\n",
        "    arrays = [np.asarray(a) for a in arrays]\n",
        "    shape = map(len, arrays)\n",
        "\n",
        "    ix = np.indices(shape, dtype=int)\n",
        "    ix = ix.reshape(len(arrays), -1).T\n",
        "\n",
        "    for n, arr in enumerate(arrays):\n",
        "        ix[:, n] = arrays[n][ix[:, n]]\n",
        "\n",
        "    return ix\n",
        "\n",
        "print(cartesian(([1, 2, 3], [4, 5], [6, 7])))"
      ],
      "execution_count": null,
      "outputs": [
        {
          "output_type": "stream",
          "text": [
            "[[1 4 6]\n",
            " [1 4 7]\n",
            " [1 5 6]\n",
            " [1 5 7]\n",
            " [2 4 6]\n",
            " [2 4 7]\n",
            " [2 5 6]\n",
            " [2 5 7]\n",
            " [3 4 6]\n",
            " [3 4 7]\n",
            " [3 5 6]\n",
            " [3 5 7]]\n"
          ],
          "name": "stdout"
        }
      ]
    },
    {
      "cell_type": "markdown",
      "metadata": {
        "id": "SyEQRHhXywBt"
      },
      "source": [
        "14.Даны 2 массива A (8x3) и B (2x2). Найти строки в A, которые содержат элементы из каждой строки в B, независимо от порядка элементов в B"
      ]
    },
    {
      "cell_type": "code",
      "metadata": {
        "colab": {
          "base_uri": "https://localhost:8080/"
        },
        "id": "_wJV30oFyyTT",
        "outputId": "58b60b80-f1c6-46a8-a074-c3b84b5fa4af"
      },
      "source": [
        "A = np.random.randint(0,5,(8,3))\n",
        "B = np.random.randint(0,5,(2,2))\n",
        "\n",
        "C = (A[..., np.newaxis, np.newaxis] == B)\n",
        "rows = (C.sum(axis=(1,2,3)) >= B.shape[1]).nonzero()[0]\n",
        "print(rows)"
      ],
      "execution_count": null,
      "outputs": [
        {
          "output_type": "stream",
          "text": [
            "[0 2 4 5 6 7]\n"
          ],
          "name": "stdout"
        }
      ]
    },
    {
      "cell_type": "markdown",
      "metadata": {
        "id": "h0sulROFy0CA"
      },
      "source": [
        "15.Дана 10x3 матрица, найти строки из неравных значений (например [2,2,3])"
      ]
    },
    {
      "cell_type": "code",
      "metadata": {
        "colab": {
          "base_uri": "https://localhost:8080/"
        },
        "id": "FrrUfROCy5zn",
        "outputId": "aab84f28-4513-4b92-e608-a79347e7a3eb"
      },
      "source": [
        "Z = np.random.randint(0,5,(10,3))\n",
        "E = np.logical_and.reduce(Z[:,1:] == Z[:,:-1], axis=1)\n",
        "U = Z[~E]\n",
        "print(Z, '\\n')\n",
        "print(U)"
      ],
      "execution_count": null,
      "outputs": [
        {
          "output_type": "stream",
          "text": [
            "[[0 3 0]\n",
            " [0 1 0]\n",
            " [3 3 4]\n",
            " [4 4 0]\n",
            " [1 2 1]\n",
            " [3 3 3]\n",
            " [0 4 3]\n",
            " [3 0 4]\n",
            " [1 3 4]\n",
            " [0 3 4]] \n",
            "\n",
            "[[0 3 0]\n",
            " [0 1 0]\n",
            " [3 3 4]\n",
            " [4 4 0]\n",
            " [1 2 1]\n",
            " [0 4 3]\n",
            " [3 0 4]\n",
            " [1 3 4]\n",
            " [0 3 4]]\n"
          ],
          "name": "stdout"
        }
      ]
    },
    {
      "cell_type": "markdown",
      "metadata": {
        "id": "Ts7DauFWy8ZX"
      },
      "source": [
        "16.Преобразовать вектор чисел в матрицу бинарных представлений"
      ]
    },
    {
      "cell_type": "code",
      "metadata": {
        "colab": {
          "base_uri": "https://localhost:8080/"
        },
        "id": "EAWydVIty-fQ",
        "outputId": "6da39781-7d96-4e42-862a-f08eafb7e06d"
      },
      "source": [
        "I = np.array([0, 1, 2, 3, 15, 16, 32, 64, 128], dtype=np.uint8)\n",
        "print(np.unpackbits(I[:, np.newaxis], axis=1))"
      ],
      "execution_count": null,
      "outputs": [
        {
          "output_type": "stream",
          "text": [
            "[[0 0 0 0 0 0 0 0]\n",
            " [0 0 0 0 0 0 0 1]\n",
            " [0 0 0 0 0 0 1 0]\n",
            " [0 0 0 0 0 0 1 1]\n",
            " [0 0 0 0 1 1 1 1]\n",
            " [0 0 0 1 0 0 0 0]\n",
            " [0 0 1 0 0 0 0 0]\n",
            " [0 1 0 0 0 0 0 0]\n",
            " [1 0 0 0 0 0 0 0]]\n"
          ],
          "name": "stdout"
        }
      ]
    },
    {
      "cell_type": "markdown",
      "metadata": {
        "id": "VWbFf1tWzBQz"
      },
      "source": [
        "17.Дан двумерный массив. Найти все различные строки"
      ]
    },
    {
      "cell_type": "code",
      "metadata": {
        "colab": {
          "base_uri": "https://localhost:8080/"
        },
        "id": "Q2MAvOJxzD0_",
        "outputId": "2ee7cfee-e98f-47fd-c80b-5cbda9a55c2e"
      },
      "source": [
        "Z = np.random.randint(0, 2, (6,3))\n",
        "T = np.ascontiguousarray(Z).view(np.dtype((np.void, Z.dtype.itemsize * Z.shape[1])))\n",
        "_, idx = np.unique(T, return_index=True)\n",
        "uZ = Z[idx]\n",
        "print(uZ)"
      ],
      "execution_count": null,
      "outputs": [
        {
          "output_type": "stream",
          "text": [
            "[[0 0 0]\n",
            " [0 1 0]\n",
            " [1 0 1]\n",
            " [1 1 1]]\n"
          ],
          "name": "stdout"
        }
      ]
    },
    {
      "cell_type": "markdown",
      "metadata": {
        "id": "sOgarSGwzGtV"
      },
      "source": [
        "18.Даны векторы A и B, написать einsum эквиваленты функций inner, outer, sum и mul"
      ]
    },
    {
      "cell_type": "code",
      "metadata": {
        "colab": {
          "base_uri": "https://localhost:8080/"
        },
        "id": "qcuFbeRrzI2Q",
        "outputId": "c1e4aeef-edde-4633-f9b6-23ef8952e296"
      },
      "source": [
        "A = np.random.random((10,))\n",
        "B = np.random.random((10,))\n",
        "\n",
        "np.einsum('i->', A)       # np.sum(A)"
      ],
      "execution_count": null,
      "outputs": [
        {
          "output_type": "execute_result",
          "data": {
            "text/plain": [
              "4.650693118421243"
            ]
          },
          "metadata": {
            "tags": []
          },
          "execution_count": 28
        }
      ]
    },
    {
      "cell_type": "code",
      "metadata": {
        "colab": {
          "base_uri": "https://localhost:8080/"
        },
        "id": "t4I-LI65zSVw",
        "outputId": "ccb9c98b-0af4-4640-c98b-dc8af978206b"
      },
      "source": [
        "np.einsum('i,i->i', A, B) # A * B"
      ],
      "execution_count": null,
      "outputs": [
        {
          "output_type": "execute_result",
          "data": {
            "text/plain": [
              "array([0.10936029, 0.04207389, 0.14657439, 0.73929255, 0.25607208,\n",
              "       0.86625257, 0.16140497, 0.24380732, 0.00593783, 0.08774724])"
            ]
          },
          "metadata": {
            "tags": []
          },
          "execution_count": 29
        }
      ]
    },
    {
      "cell_type": "code",
      "metadata": {
        "colab": {
          "base_uri": "https://localhost:8080/"
        },
        "id": "a1Jl_mK8zV0M",
        "outputId": "522f79c2-f627-4322-f4d4-728ff6b75839"
      },
      "source": [
        "np.einsum('i,i', A, B)    # np.inner(A, B)"
      ],
      "execution_count": null,
      "outputs": [
        {
          "output_type": "execute_result",
          "data": {
            "text/plain": [
              "2.6585231340950335"
            ]
          },
          "metadata": {
            "tags": []
          },
          "execution_count": 30
        }
      ]
    },
    {
      "cell_type": "code",
      "metadata": {
        "colab": {
          "base_uri": "https://localhost:8080/"
        },
        "id": "4prpHatczYfr",
        "outputId": "874efaae-60db-4faa-cec5-987b21ae2873"
      },
      "source": [
        "np.einsum('i,j', A, B)    # np.outer(A, B)"
      ],
      "execution_count": null,
      "outputs": [
        {
          "output_type": "execute_result",
          "data": {
            "text/plain": [
              "array([[0.10936029, 0.16576242, 0.10965616, 0.17181958, 0.10345752,\n",
              "        0.21327911, 0.05980974, 0.10967737, 0.00830419, 0.0584683 ],\n",
              "       [0.02775788, 0.04207389, 0.02783297, 0.04361132, 0.02625963,\n",
              "        0.0541346 , 0.01518093, 0.02783836, 0.00210777, 0.01484045],\n",
              "       [0.14617891, 0.22157009, 0.14657439, 0.22966654, 0.13828883,\n",
              "        0.28508434, 0.07994604, 0.14660274, 0.01109999, 0.07815297],\n",
              "       [0.47054735, 0.71323023, 0.47182038, 0.73929255, 0.44514932,\n",
              "        0.9176815 , 0.2573449 , 0.47191163, 0.03573067, 0.25157304],\n",
              "       [0.2706823 , 0.41028559, 0.27141461, 0.42527793, 0.25607208,\n",
              "        0.52789616, 0.14803762, 0.2714671 , 0.02055406, 0.14471736],\n",
              "       [0.44417682, 0.67325921, 0.4453785 , 0.69786093, 0.42020215,\n",
              "        0.86625257, 0.24292271, 0.44546465, 0.03372824, 0.23747432],\n",
              "       [0.2951241 , 0.44733315, 0.29592253, 0.46367926, 0.27919463,\n",
              "        0.5755636 , 0.16140497, 0.29597977, 0.02241003, 0.1577849 ],\n",
              "       [0.24310248, 0.3684816 , 0.24376018, 0.38194637, 0.2299809 ,\n",
              "        0.47410882, 0.13295407, 0.24380732, 0.01845981, 0.12997211],\n",
              "       [0.07819698, 0.11852675, 0.07840853, 0.12285786, 0.07397625,\n",
              "        0.15250307, 0.04276635, 0.0784237 , 0.00593783, 0.04180716],\n",
              "       [0.16412423, 0.24877063, 0.16456825, 0.25786102, 0.15526554,\n",
              "        0.32008206, 0.08976043, 0.16460008, 0.01246265, 0.08774724]])"
            ]
          },
          "metadata": {
            "tags": []
          },
          "execution_count": 31
        }
      ]
    }
  ]
}