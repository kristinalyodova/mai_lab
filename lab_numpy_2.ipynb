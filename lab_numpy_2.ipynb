{
  "nbformat": 4,
  "nbformat_minor": 0,
  "metadata": {
    "colab": {
      "name": "Untitled1.ipynb",
      "provenance": [],
      "collapsed_sections": []
    },
    "kernelspec": {
      "name": "python3",
      "display_name": "Python 3"
    }
  },
  "cells": [
    {
      "cell_type": "markdown",
      "metadata": {
        "id": "lGDXtIDXk8Up"
      },
      "source": [
        "### **Лёдова Кристина Владимировна**"
      ]
    },
    {
      "cell_type": "markdown",
      "metadata": {
        "id": "PW5vDPuPle21"
      },
      "source": [
        "### группа Т12О-101М-20"
      ]
    },
    {
      "cell_type": "code",
      "metadata": {
        "id": "oTJfeFLBltwH"
      },
      "source": [
        "import numpy as np"
      ],
      "execution_count": 1,
      "outputs": []
    },
    {
      "cell_type": "markdown",
      "metadata": {
        "id": "5HoMhQ0al0aV"
      },
      "source": [
        "1.Перемножить матрицы 5x3 и 3x2\n",
        "\n",
        "\n"
      ]
    },
    {
      "cell_type": "code",
      "metadata": {
        "colab": {
          "base_uri": "https://localhost:8080/"
        },
        "id": "kL1FZraQl9lF",
        "outputId": "502210b4-5151-4a64-b15b-214b2dc01408"
      },
      "source": [
        "a = np.random.randint(5, size=(5,3))\n",
        "aa = np.random.randint(5, size=(3,2))\n",
        "np.dot(a, aa)"
      ],
      "execution_count": 4,
      "outputs": [
        {
          "output_type": "execute_result",
          "data": {
            "text/plain": [
              "array([[13, 11],\n",
              "       [22,  8],\n",
              "       [ 8, 16],\n",
              "       [23, 19],\n",
              "       [ 5,  1]])"
            ]
          },
          "metadata": {
            "tags": []
          },
          "execution_count": 4
        }
      ]
    },
    {
      "cell_type": "markdown",
      "metadata": {
        "id": "-w3wqG-lmN4P"
      },
      "source": [
        "\n",
        "2.Дан массив, поменять знак у элементов, значения которых между 3 и 8"
      ]
    },
    {
      "cell_type": "code",
      "metadata": {
        "colab": {
          "base_uri": "https://localhost:8080/"
        },
        "id": "TNg5LR9HmO_5",
        "outputId": "725b464c-ac65-4c36-dfbb-ed1f2f8ea997"
      },
      "source": [
        "a = np.arange(12)\n",
        "a[(a >3 ) & (a < 8)] *= -1\n",
        "a"
      ],
      "execution_count": 5,
      "outputs": [
        {
          "output_type": "execute_result",
          "data": {
            "text/plain": [
              "array([ 0,  1,  2,  3, -4, -5, -6, -7,  8,  9, 10, 11])"
            ]
          },
          "metadata": {
            "tags": []
          },
          "execution_count": 5
        }
      ]
    },
    {
      "cell_type": "markdown",
      "metadata": {
        "id": "74EWXhhcmfNY"
      },
      "source": [
        "\n",
        "3.Создать 5x5 матрицу со значениями в строках от 0 до 4"
      ]
    },
    {
      "cell_type": "code",
      "metadata": {
        "colab": {
          "base_uri": "https://localhost:8080/"
        },
        "id": "pPcaCldomf9C",
        "outputId": "61fb4215-d14c-4942-c238-9429ffa402ad"
      },
      "source": [
        "np.tile(np.arange(5), 5).reshape(5,5)"
      ],
      "execution_count": 6,
      "outputs": [
        {
          "output_type": "execute_result",
          "data": {
            "text/plain": [
              "array([[0, 1, 2, 3, 4],\n",
              "       [0, 1, 2, 3, 4],\n",
              "       [0, 1, 2, 3, 4],\n",
              "       [0, 1, 2, 3, 4],\n",
              "       [0, 1, 2, 3, 4]])"
            ]
          },
          "metadata": {
            "tags": []
          },
          "execution_count": 6
        }
      ]
    },
    {
      "cell_type": "markdown",
      "metadata": {
        "id": "JDSCm4Cumo1-"
      },
      "source": [
        "4.Есть генератор, сделать с его помощью массив"
      ]
    },
    {
      "cell_type": "code",
      "metadata": {
        "colab": {
          "base_uri": "https://localhost:8080/"
        },
        "id": "V32bMtAzmr9t",
        "outputId": "bffbb9c5-3035-4b16-abf8-e91f6d7530ed"
      },
      "source": [
        "def gen(n):\n",
        "    for i in range(n):\n",
        "        yield i\n",
        "np.fromiter(gen(10), np.int)"
      ],
      "execution_count": 7,
      "outputs": [
        {
          "output_type": "execute_result",
          "data": {
            "text/plain": [
              "array([0, 1, 2, 3, 4, 5, 6, 7, 8, 9])"
            ]
          },
          "metadata": {
            "tags": []
          },
          "execution_count": 7
        }
      ]
    },
    {
      "cell_type": "markdown",
      "metadata": {
        "id": "-HNTAlEimv9L"
      },
      "source": [
        "5.Создать вектор размера 10 со значениями от 0 до 1, не включая ни то, ни другое"
      ]
    },
    {
      "cell_type": "code",
      "metadata": {
        "colab": {
          "base_uri": "https://localhost:8080/"
        },
        "id": "ql9pjihqmy79",
        "outputId": "0f9b48f3-99d3-4f7e-e9a4-88cbda2cafd3"
      },
      "source": [
        "np.linspace(0, 1, 11, endpoint=False)[1:]"
      ],
      "execution_count": 9,
      "outputs": [
        {
          "output_type": "execute_result",
          "data": {
            "text/plain": [
              "array([0.09090909, 0.18181818, 0.27272727, 0.36363636, 0.45454545,\n",
              "       0.54545455, 0.63636364, 0.72727273, 0.81818182, 0.90909091])"
            ]
          },
          "metadata": {
            "tags": []
          },
          "execution_count": 9
        }
      ]
    },
    {
      "cell_type": "markdown",
      "metadata": {
        "id": "hMJf-2S6nAYs"
      },
      "source": [
        "6.Отсортировать вектор"
      ]
    },
    {
      "cell_type": "code",
      "metadata": {
        "colab": {
          "base_uri": "https://localhost:8080/"
        },
        "id": "dxm6-YrgnBEZ",
        "outputId": "e5ed6368-ed76-4e82-fa5d-b9ee5d8b7390"
      },
      "source": [
        "a = np.random.random(10)\n",
        "a.sort()\n",
        "print(a)"
      ],
      "execution_count": 10,
      "outputs": [
        {
          "output_type": "stream",
          "text": [
            "[0.09335465 0.29349002 0.29833375 0.33433558 0.3913883  0.55942293\n",
            " 0.66432208 0.70750349 0.72033177 0.8437621 ]\n"
          ],
          "name": "stdout"
        }
      ]
    },
    {
      "cell_type": "markdown",
      "metadata": {
        "id": "elAMvkNPnExY"
      },
      "source": [
        "7.Проверить, одинаковы ли 2 numpy массива"
      ]
    },
    {
      "cell_type": "code",
      "metadata": {
        "colab": {
          "base_uri": "https://localhost:8080/"
        },
        "id": "cDrgDR3InHce",
        "outputId": "f980ce58-280d-4b3d-cf85-c1f834bc02d6"
      },
      "source": [
        "np.allclose(np.random.random(10), np.random.random(10))"
      ],
      "execution_count": 12,
      "outputs": [
        {
          "output_type": "execute_result",
          "data": {
            "text/plain": [
              "False"
            ]
          },
          "metadata": {
            "tags": []
          },
          "execution_count": 12
        }
      ]
    },
    {
      "cell_type": "markdown",
      "metadata": {
        "id": "LCVSkGmXnNYx"
      },
      "source": [
        "8.Сделать массив неизменяемым"
      ]
    },
    {
      "cell_type": "code",
      "metadata": {
        "colab": {
          "base_uri": "https://localhost:8080/",
          "height": 195
        },
        "id": "u_uajYHWnN7I",
        "outputId": "cb117cdf-6e7c-4666-c58f-de977524638f"
      },
      "source": [
        "a = np.arange(10)\n",
        "a.flags.writeable = False\n",
        "a[0] = 1"
      ],
      "execution_count": 13,
      "outputs": [
        {
          "output_type": "error",
          "ename": "ValueError",
          "evalue": "ignored",
          "traceback": [
            "\u001b[0;31m---------------------------------------------------------------------------\u001b[0m",
            "\u001b[0;31mValueError\u001b[0m                                Traceback (most recent call last)",
            "\u001b[0;32m<ipython-input-13-2442f12181f2>\u001b[0m in \u001b[0;36m<module>\u001b[0;34m()\u001b[0m\n\u001b[1;32m      2\u001b[0m \u001b[0ma\u001b[0m\u001b[0;34m.\u001b[0m\u001b[0mflags\u001b[0m\u001b[0;34m.\u001b[0m\u001b[0mwriteable\u001b[0m \u001b[0;34m=\u001b[0m \u001b[0;32mFalse\u001b[0m\u001b[0;34m\u001b[0m\u001b[0;34m\u001b[0m\u001b[0m\n\u001b[1;32m      3\u001b[0m \u001b[0;31m#a = frozenset(a)\u001b[0m\u001b[0;34m\u001b[0m\u001b[0;34m\u001b[0m\u001b[0;34m\u001b[0m\u001b[0m\n\u001b[0;32m----> 4\u001b[0;31m \u001b[0ma\u001b[0m\u001b[0;34m[\u001b[0m\u001b[0;36m0\u001b[0m\u001b[0;34m]\u001b[0m \u001b[0;34m=\u001b[0m \u001b[0;36m1\u001b[0m\u001b[0;34m\u001b[0m\u001b[0;34m\u001b[0m\u001b[0m\n\u001b[0m",
            "\u001b[0;31mValueError\u001b[0m: assignment destination is read-only"
          ]
        }
      ]
    },
    {
      "cell_type": "markdown",
      "metadata": {
        "id": "63tdvvpznpRt"
      },
      "source": [
        ""
      ]
    },
    {
      "cell_type": "markdown",
      "metadata": {
        "id": "NOUS0zHCnZqE"
      },
      "source": [
        "9.Дан массив 10x2 (точки в декартовой системе координат), преобразовать в полярную"
      ]
    },
    {
      "cell_type": "code",
      "metadata": {
        "colab": {
          "base_uri": "https://localhost:8080/"
        },
        "id": "tZ92rZ4Ondrl",
        "outputId": "b621b0da-cda9-4073-895f-5ff06f133682"
      },
      "source": [
        "coordinates = np.random.random((10, 2))\n",
        "\n",
        "x, y = coordinates[:, 0], coordinates[:, 1]\n",
        "\n",
        "radius = np.sqrt(x**2 + y**2)\n",
        "angle = np.arctan2(y, x)\n",
        "\n",
        "np.array([radius, angle])"
      ],
      "execution_count": 14,
      "outputs": [
        {
          "output_type": "execute_result",
          "data": {
            "text/plain": [
              "array([[0.2792075 , 0.81598988, 0.57857971, 0.73731942, 1.20974204,\n",
              "        0.57104797, 0.71965185, 0.75768277, 0.8948797 , 0.54684512],\n",
              "       [0.9397822 , 1.28150887, 1.42899992, 1.33525099, 0.80979144,\n",
              "        0.69792744, 1.52220286, 0.74415362, 0.21134853, 0.50667997]])"
            ]
          },
          "metadata": {
            "tags": []
          },
          "execution_count": 14
        }
      ]
    },
    {
      "cell_type": "markdown",
      "metadata": {
        "id": "Sx-DTKr_nidK"
      },
      "source": [
        "10.Заменить максимальный элемент на ноль"
      ]
    },
    {
      "cell_type": "code",
      "metadata": {
        "colab": {
          "base_uri": "https://localhost:8080/"
        },
        "id": "RYNuhPQ8nkQ_",
        "outputId": "482311d4-e7fb-4b4c-f339-56fcba715295"
      },
      "source": [
        "a = np.arange(20)\n",
        "a[max(a)] = 0\n",
        "print(a)"
      ],
      "execution_count": 15,
      "outputs": [
        {
          "output_type": "stream",
          "text": [
            "[ 0  1  2  3  4  5  6  7  8  9 10 11 12 13 14 15 16 17 18  0]\n"
          ],
          "name": "stdout"
        }
      ]
    },
    {
      "cell_type": "markdown",
      "metadata": {
        "id": "-6XxgT8xnt0O"
      },
      "source": [
        "11.Создать структурированный массив с координатами x, y на сетке в квадрате [0,1]x[0,1]"
      ]
    },
    {
      "cell_type": "code",
      "metadata": {
        "colab": {
          "base_uri": "https://localhost:8080/"
        },
        "id": "xyqq2zUjnxPs",
        "outputId": "f9cf6c12-182a-4623-c5c2-60aa33b63ded"
      },
      "source": [
        "Z = np.zeros((4,4), [('x',float),('y',float)])\n",
        "Z['x'], Z['y'] = np.meshgrid(np.linspace(0,1,4),\n",
        "                             np.linspace(0,1,4))\n",
        "print(Z)"
      ],
      "execution_count": 16,
      "outputs": [
        {
          "output_type": "stream",
          "text": [
            "[[(0.        , 0.        ) (0.33333333, 0.        )\n",
            "  (0.66666667, 0.        ) (1.        , 0.        )]\n",
            " [(0.        , 0.33333333) (0.33333333, 0.33333333)\n",
            "  (0.66666667, 0.33333333) (1.        , 0.33333333)]\n",
            " [(0.        , 0.66666667) (0.33333333, 0.66666667)\n",
            "  (0.66666667, 0.66666667) (1.        , 0.66666667)]\n",
            " [(0.        , 1.        ) (0.33333333, 1.        )\n",
            "  (0.66666667, 1.        ) (1.        , 1.        )]]\n"
          ],
          "name": "stdout"
        }
      ]
    },
    {
      "cell_type": "markdown",
      "metadata": {
        "id": "mBmxSzNwn13D"
      },
      "source": [
        "12.Из двух массивов сделать матрицу Коши C (Cij = 1/(xi - yj))"
      ]
    },
    {
      "cell_type": "code",
      "metadata": {
        "colab": {
          "base_uri": "https://localhost:8080/"
        },
        "id": "ibf08uhWn39i",
        "outputId": "a181ba9c-13eb-49ca-d3d7-bb578637dfa5"
      },
      "source": [
        "X = np.arange(8)\n",
        "Y = X + 0.5\n",
        "C = 1.0 / np.subtract.outer(X, Y)\n",
        "print(C)"
      ],
      "execution_count": 17,
      "outputs": [
        {
          "output_type": "stream",
          "text": [
            "[[-2.         -0.66666667 -0.4        -0.28571429 -0.22222222 -0.18181818\n",
            "  -0.15384615 -0.13333333]\n",
            " [ 2.         -2.         -0.66666667 -0.4        -0.28571429 -0.22222222\n",
            "  -0.18181818 -0.15384615]\n",
            " [ 0.66666667  2.         -2.         -0.66666667 -0.4        -0.28571429\n",
            "  -0.22222222 -0.18181818]\n",
            " [ 0.4         0.66666667  2.         -2.         -0.66666667 -0.4\n",
            "  -0.28571429 -0.22222222]\n",
            " [ 0.28571429  0.4         0.66666667  2.         -2.         -0.66666667\n",
            "  -0.4        -0.28571429]\n",
            " [ 0.22222222  0.28571429  0.4         0.66666667  2.         -2.\n",
            "  -0.66666667 -0.4       ]\n",
            " [ 0.18181818  0.22222222  0.28571429  0.4         0.66666667  2.\n",
            "  -2.         -0.66666667]\n",
            " [ 0.15384615  0.18181818  0.22222222  0.28571429  0.4         0.66666667\n",
            "   2.         -2.        ]]\n"
          ],
          "name": "stdout"
        }
      ]
    },
    {
      "cell_type": "markdown",
      "metadata": {
        "id": "cDBndH13n613"
      },
      "source": [
        "13.Найти минимальное и максимальное значение, принимаемое каждым числовым типом numpy"
      ]
    },
    {
      "cell_type": "code",
      "metadata": {
        "colab": {
          "base_uri": "https://localhost:8080/"
        },
        "id": "dZxM0V2zoIbr",
        "outputId": "2606ed92-791f-44bd-abb7-21331a368964"
      },
      "source": [
        "np_int_types = [\n",
        "    np.uint, np.uint0, np.uint16, np.uint32, np.uint64, np.uint8, np.uintc, np.uintp,\n",
        "    np.int, np.int0, np.int16, np.int32, np.int64, np.int8, np.intc, np.integer, np.intp,\n",
        "]\n",
        "np_float_types = [\n",
        "    np.float, np.float128, np.float16, np.float32, np.float64,\n",
        "]\n",
        "\n",
        "print('--------int--------')\n",
        "for t in np_int_types:\n",
        "    type_info = np.iinfo(t)\n",
        "    print(t, type_info.min, type_info.max)\n",
        "\n",
        "print('\\n','--------float--------')\n",
        "for t in np_float_types:\n",
        "    type_info = np.finfo(t)\n",
        "    print(t, type_info.min, type_info.max, type_info.eps)"
      ],
      "execution_count": 21,
      "outputs": [
        {
          "output_type": "stream",
          "text": [
            "--------int--------\n",
            "<class 'numpy.uint64'> 0 18446744073709551615\n",
            "<class 'numpy.uint64'> 0 18446744073709551615\n",
            "<class 'numpy.uint16'> 0 65535\n",
            "<class 'numpy.uint32'> 0 4294967295\n",
            "<class 'numpy.uint64'> 0 18446744073709551615\n",
            "<class 'numpy.uint8'> 0 255\n",
            "<class 'numpy.uint32'> 0 4294967295\n",
            "<class 'numpy.uint64'> 0 18446744073709551615\n",
            "<class 'int'> -9223372036854775808 9223372036854775807\n",
            "<class 'numpy.int64'> -9223372036854775808 9223372036854775807\n",
            "<class 'numpy.int16'> -32768 32767\n",
            "<class 'numpy.int32'> -2147483648 2147483647\n",
            "<class 'numpy.int64'> -9223372036854775808 9223372036854775807\n",
            "<class 'numpy.int8'> -128 127\n",
            "<class 'numpy.int32'> -2147483648 2147483647\n",
            "<class 'numpy.integer'> -9223372036854775808 9223372036854775807\n",
            "<class 'numpy.int64'> -9223372036854775808 9223372036854775807\n",
            "\n",
            " --------float--------\n",
            "<class 'float'> -1.7976931348623157e+308 1.7976931348623157e+308 2.220446049250313e-16\n",
            "<class 'numpy.float128'> -1.189731495357231765e+4932 1.189731495357231765e+4932 1.084202172485504434e-19\n",
            "<class 'numpy.float16'> -65500.0 65500.0 0.000977\n",
            "<class 'numpy.float32'> -3.4028235e+38 3.4028235e+38 1.1920929e-07\n",
            "<class 'numpy.float64'> -1.7976931348623157e+308 1.7976931348623157e+308 2.220446049250313e-16\n"
          ],
          "name": "stdout"
        }
      ]
    },
    {
      "cell_type": "markdown",
      "metadata": {
        "id": "qzpFzx9sodQ0"
      },
      "source": [
        "14.Напечатать все значения в массиве"
      ]
    },
    {
      "cell_type": "code",
      "metadata": {
        "colab": {
          "base_uri": "https://localhost:8080/"
        },
        "id": "Y8jQ6zQ7ofpA",
        "outputId": "525b78d5-51ed-45bd-f923-ed6ba5802b03"
      },
      "source": [
        "a = np.arange(10)\n",
        "for i in a:\n",
        "    print(a[i], end = ' ')"
      ],
      "execution_count": 22,
      "outputs": [
        {
          "output_type": "stream",
          "text": [
            "0 1 2 3 4 5 6 7 8 9 "
          ],
          "name": "stdout"
        }
      ]
    },
    {
      "cell_type": "markdown",
      "metadata": {
        "id": "ALrDrjeSoioM"
      },
      "source": [
        "15.Найти ближайшее к заданному значению число в заданном массиве"
      ]
    },
    {
      "cell_type": "code",
      "metadata": {
        "colab": {
          "base_uri": "https://localhost:8080/"
        },
        "id": "652sfkBiok7t",
        "outputId": "31c31936-698d-4ff0-c6d4-c02df3036342"
      },
      "source": [
        "a = np.random.randint(5, size = 10)\n",
        "def find(arr, value):\n",
        "    index = np.abs(arr - value).argmin()\n",
        "    return index\n",
        "print(a, find(a, 4), sep = '\\n')"
      ],
      "execution_count": 23,
      "outputs": [
        {
          "output_type": "stream",
          "text": [
            "[4 0 0 3 0 3 1 0 3 2]\n",
            "0\n"
          ],
          "name": "stdout"
        }
      ]
    },
    {
      "cell_type": "markdown",
      "metadata": {
        "id": "CwnVSw33onig"
      },
      "source": [
        "16.Создать структурированный массив, представляющий координату (x,y) и цвет (r,g,b)"
      ]
    },
    {
      "cell_type": "code",
      "metadata": {
        "colab": {
          "base_uri": "https://localhost:8080/"
        },
        "id": "IU6wjoeDor9v",
        "outputId": "1f1b739d-e35f-4b08-8891-e15e6d795862"
      },
      "source": [
        "np.zeros(10, dtype=[('x', np.int), ('y', np.int), ('color', np.int, (3,))])"
      ],
      "execution_count": 24,
      "outputs": [
        {
          "output_type": "execute_result",
          "data": {
            "text/plain": [
              "array([(0, 0, [0, 0, 0]), (0, 0, [0, 0, 0]), (0, 0, [0, 0, 0]),\n",
              "       (0, 0, [0, 0, 0]), (0, 0, [0, 0, 0]), (0, 0, [0, 0, 0]),\n",
              "       (0, 0, [0, 0, 0]), (0, 0, [0, 0, 0]), (0, 0, [0, 0, 0]),\n",
              "       (0, 0, [0, 0, 0])],\n",
              "      dtype=[('x', '<i8'), ('y', '<i8'), ('color', '<i8', (3,))])"
            ]
          },
          "metadata": {
            "tags": []
          },
          "execution_count": 24
        }
      ]
    },
    {
      "cell_type": "markdown",
      "metadata": {
        "id": "w5u5oPsXooCz"
      },
      "source": [
        "17.Дан массив (100,2) координат, найти расстояние от каждой точки до каждой"
      ]
    },
    {
      "cell_type": "code",
      "metadata": {
        "colab": {
          "base_uri": "https://localhost:8080/"
        },
        "id": "eGCEJdAnoxsJ",
        "outputId": "b1b388ca-6365-4728-dc11-c66f40e5edf2"
      },
      "source": [
        "coordinates = np.random.random((100, 2))\n",
        "\n",
        "distances = np.zeros((100, 100))\n",
        "\n",
        "for i in range(100):\n",
        "    point_first = coordinates[i]\n",
        "    for j in range(100):\n",
        "        point_second = coordinates[j]\n",
        "\n",
        "        distances[i][j] = np.linalg.norm(np.abs(point_first - point_second))\n",
        "\n",
        "distances"
      ],
      "execution_count": 25,
      "outputs": [
        {
          "output_type": "execute_result",
          "data": {
            "text/plain": [
              "array([[0.        , 0.68203438, 0.4142131 , ..., 0.78686171, 0.43690424,\n",
              "        0.77456626],\n",
              "       [0.68203438, 0.        , 0.50633824, ..., 0.56733456, 0.40271821,\n",
              "        0.32611474],\n",
              "       [0.4142131 , 0.50633824, 0.        , ..., 0.37380598, 0.10362818,\n",
              "        0.42446367],\n",
              "       ...,\n",
              "       [0.78686171, 0.56733456, 0.37380598, ..., 0.        , 0.36664176,\n",
              "        0.26994202],\n",
              "       [0.43690424, 0.40271821, 0.10362818, ..., 0.36664176, 0.        ,\n",
              "        0.35029035],\n",
              "       [0.77456626, 0.32611474, 0.42446367, ..., 0.26994202, 0.35029035,\n",
              "        0.        ]])"
            ]
          },
          "metadata": {
            "tags": []
          },
          "execution_count": 25
        }
      ]
    },
    {
      "cell_type": "markdown",
      "metadata": {
        "id": "Mo10b8w_o1Ht"
      },
      "source": [
        "18.Преобразовать массив из float в int"
      ]
    },
    {
      "cell_type": "code",
      "metadata": {
        "colab": {
          "base_uri": "https://localhost:8080/"
        },
        "id": "BBA8Q_KNo4Cw",
        "outputId": "530bf9c9-7fe2-492d-f079-153515f74f7b"
      },
      "source": [
        "np.random.random(10).astype(np.int)"
      ],
      "execution_count": 26,
      "outputs": [
        {
          "output_type": "execute_result",
          "data": {
            "text/plain": [
              "array([0, 0, 0, 0, 0, 0, 0, 0, 0, 0])"
            ]
          },
          "metadata": {
            "tags": []
          },
          "execution_count": 26
        }
      ]
    },
    {
      "cell_type": "markdown",
      "metadata": {
        "id": "IdqpHc1Wo5_t"
      },
      "source": [
        "19.Дан файл:\n",
        "\n",
        "1,2,3,4,5\n",
        "   6,,,7,8\n",
        " ,,9,10,11\n",
        "\n",
        "Как прочитать его?"
      ]
    },
    {
      "cell_type": "code",
      "metadata": {
        "colab": {
          "base_uri": "https://localhost:8080/"
        },
        "id": "lBeyqAfLo97v",
        "outputId": "a60c4b48-b49e-43cf-8a1e-c18c3e4674e2"
      },
      "source": [
        "with open('./test_file.txt', 'w') as f:\n",
        "    f.write('1,2,3,4,5\\n6,,,7,8\\n,,9,10,11')\n",
        "\n",
        "np.genfromtxt('./test_file.txt', delimiter = ',')"
      ],
      "execution_count": 27,
      "outputs": [
        {
          "output_type": "execute_result",
          "data": {
            "text/plain": [
              "array([[ 1.,  2.,  3.,  4.,  5.],\n",
              "       [ 6., nan, nan,  7.,  8.],\n",
              "       [nan, nan,  9., 10., 11.]])"
            ]
          },
          "metadata": {
            "tags": []
          },
          "execution_count": 27
        }
      ]
    },
    {
      "cell_type": "markdown",
      "metadata": {
        "id": "neFRfhnNpHy9"
      },
      "source": [
        "20.Каков эквивалент функции enumerate для numpy массивов?"
      ]
    },
    {
      "cell_type": "code",
      "metadata": {
        "colab": {
          "base_uri": "https://localhost:8080/"
        },
        "id": "beQYXxYWpJj5",
        "outputId": "6abd86f7-9726-4aa7-c208-7c9ea70827a6"
      },
      "source": [
        "list(np.ndenumerate(np.arange(10)))"
      ],
      "execution_count": 28,
      "outputs": [
        {
          "output_type": "execute_result",
          "data": {
            "text/plain": [
              "[((0,), 0),\n",
              " ((1,), 1),\n",
              " ((2,), 2),\n",
              " ((3,), 3),\n",
              " ((4,), 4),\n",
              " ((5,), 5),\n",
              " ((6,), 6),\n",
              " ((7,), 7),\n",
              " ((8,), 8),\n",
              " ((9,), 9)]"
            ]
          },
          "metadata": {
            "tags": []
          },
          "execution_count": 28
        }
      ]
    },
    {
      "cell_type": "markdown",
      "metadata": {
        "id": "uZGWKxS9pMZU"
      },
      "source": [
        "21.Сформировать 2D массив с распределением Гаусса"
      ]
    },
    {
      "cell_type": "code",
      "metadata": {
        "colab": {
          "base_uri": "https://localhost:8080/"
        },
        "id": "2z7upKhppPQW",
        "outputId": "462d3269-332c-412d-d96c-111f74b07759"
      },
      "source": [
        "np.random.normal(size=(2, 2))"
      ],
      "execution_count": 29,
      "outputs": [
        {
          "output_type": "execute_result",
          "data": {
            "text/plain": [
              "array([[-0.55747085,  0.36049179],\n",
              "       [-1.30806863, -1.85716376]])"
            ]
          },
          "metadata": {
            "tags": []
          },
          "execution_count": 29
        }
      ]
    },
    {
      "cell_type": "markdown",
      "metadata": {
        "id": "ZCWRuJ25pU-3"
      },
      "source": [
        "22.Случайно расположить p элементов в 2D массив"
      ]
    },
    {
      "cell_type": "code",
      "metadata": {
        "colab": {
          "base_uri": "https://localhost:8080/"
        },
        "id": "2rBNi6dDpW-C",
        "outputId": "423ee3af-74e1-4b2c-9a12-d84923d14c1a"
      },
      "source": [
        "n = 5\n",
        "p = 3\n",
        "a = np.zeros((n,n))\n",
        "np.put(a, np.random.choice(range(n*n), p, replace=False), 1)\n",
        "a"
      ],
      "execution_count": 30,
      "outputs": [
        {
          "output_type": "execute_result",
          "data": {
            "text/plain": [
              "array([[0., 1., 0., 0., 0.],\n",
              "       [0., 0., 0., 0., 0.],\n",
              "       [0., 0., 0., 1., 0.],\n",
              "       [0., 0., 0., 0., 0.],\n",
              "       [0., 0., 1., 0., 0.]])"
            ]
          },
          "metadata": {
            "tags": []
          },
          "execution_count": 30
        }
      ]
    },
    {
      "cell_type": "markdown",
      "metadata": {
        "id": "IyZbIIBUpb3_"
      },
      "source": [
        "23.Отнять среднее из каждой строки в матрице"
      ]
    },
    {
      "cell_type": "code",
      "metadata": {
        "colab": {
          "base_uri": "https://localhost:8080/"
        },
        "id": "ySAuBYkApeVY",
        "outputId": "259f1622-a592-4045-944f-8484ccd0c94a"
      },
      "source": [
        "a = np.random.randint(5,size = (5,5))\n",
        "res = a - a.mean(axis = 1, dtype = int)\n",
        "res"
      ],
      "execution_count": 31,
      "outputs": [
        {
          "output_type": "execute_result",
          "data": {
            "text/plain": [
              "array([[ 1,  1, -2, -2, -1],\n",
              "       [ 0,  3, -2, -1,  1],\n",
              "       [ 2,  1,  0,  0,  0],\n",
              "       [ 3,  2,  2,  1, -2],\n",
              "       [ 3,  3,  0, -2,  2]])"
            ]
          },
          "metadata": {
            "tags": []
          },
          "execution_count": 31
        }
      ]
    },
    {
      "cell_type": "markdown",
      "metadata": {
        "id": "aMu2zHDBphfA"
      },
      "source": [
        "24.Отсортировать матрицу по n-ому столбцу"
      ]
    },
    {
      "cell_type": "code",
      "metadata": {
        "colab": {
          "base_uri": "https://localhost:8080/"
        },
        "id": "Ci0nK7mDpjjT",
        "outputId": "805fa21e-b5ed-47d6-f02c-9b33c739e4ee"
      },
      "source": [
        "N = 3\n",
        "matrix = np.arange(25).reshape(5, 5)[::-1]\n",
        "\n",
        "matrix[matrix[:,N].argsort()]"
      ],
      "execution_count": 32,
      "outputs": [
        {
          "output_type": "execute_result",
          "data": {
            "text/plain": [
              "array([[ 0,  1,  2,  3,  4],\n",
              "       [ 5,  6,  7,  8,  9],\n",
              "       [10, 11, 12, 13, 14],\n",
              "       [15, 16, 17, 18, 19],\n",
              "       [20, 21, 22, 23, 24]])"
            ]
          },
          "metadata": {
            "tags": []
          },
          "execution_count": 32
        }
      ]
    },
    {
      "cell_type": "markdown",
      "metadata": {
        "id": "BjMloSmipnL8"
      },
      "source": [
        "25.Определить, есть ли в 2D массиве нулевые столбцы"
      ]
    },
    {
      "cell_type": "code",
      "metadata": {
        "colab": {
          "base_uri": "https://localhost:8080/"
        },
        "id": "yYYYHZK7ppRB",
        "outputId": "7474dff5-9c4f-4598-dd19-3e1c15f6c491"
      },
      "source": [
        "arr = np.random.randint(0,3,(4,4))\n",
        "np.all((arr == 0), axis=1)"
      ],
      "execution_count": 33,
      "outputs": [
        {
          "output_type": "execute_result",
          "data": {
            "text/plain": [
              "array([False, False, False, False])"
            ]
          },
          "metadata": {
            "tags": []
          },
          "execution_count": 33
        }
      ]
    },
    {
      "cell_type": "markdown",
      "metadata": {
        "id": "XsobCRoFps2Q"
      },
      "source": [
        "26.Дан массив, добавить 1 к каждому элементу с индексом, заданным в другом массиве (осторожно с повторами)"
      ]
    },
    {
      "cell_type": "code",
      "metadata": {
        "colab": {
          "base_uri": "https://localhost:8080/"
        },
        "id": "Z_ipbZIfpvKj",
        "outputId": "868f4f47-dc15-4318-8f8f-28bcd207fa17"
      },
      "source": [
        "a = np.ones(10)\n",
        "b = np.random.randint(0,len(a),20)\n",
        "a += np.bincount(b, minlength=len(a))\n",
        "print(a)"
      ],
      "execution_count": 35,
      "outputs": [
        {
          "output_type": "stream",
          "text": [
            "[3. 6. 4. 3. 1. 3. 1. 3. 3. 3.]\n"
          ],
          "name": "stdout"
        }
      ]
    },
    {
      "cell_type": "markdown",
      "metadata": {
        "id": "xynDZzegpziG"
      },
      "source": [
        "27.Дан массив (w,h,3) (картинка) dtype=ubyte, посчитать количество различных цветов"
      ]
    },
    {
      "cell_type": "code",
      "metadata": {
        "colab": {
          "base_uri": "https://localhost:8080/"
        },
        "id": "w6cRtfjRp4k7",
        "outputId": "5c50e055-11a6-434b-a910-716c2a2d460a"
      },
      "source": [
        "width, height = 16, 16\n",
        "pixel_colors = np.random.randint(0, 2, (height, width, 3)).astype(np.ubyte)\n",
        "pixel_colors_as_vector = pixel_colors.reshape((height*width, 3))\n",
        "uniq_colors = np.unique(pixel_colors_as_vector, axis=0)\n",
        "len(uniq_colors)"
      ],
      "execution_count": 36,
      "outputs": [
        {
          "output_type": "execute_result",
          "data": {
            "text/plain": [
              "8"
            ]
          },
          "metadata": {
            "tags": []
          },
          "execution_count": 36
        }
      ]
    },
    {
      "cell_type": "markdown",
      "metadata": {
        "id": "nvGrKKDyp88Q"
      },
      "source": [
        "28.Дан четырехмерный массив, посчитать сумму по последним двум осям"
      ]
    },
    {
      "cell_type": "code",
      "metadata": {
        "colab": {
          "base_uri": "https://localhost:8080/"
        },
        "id": "Z4UavdPlp-s_",
        "outputId": "afd0747b-fcf6-4adc-fcc7-43dba0eff434"
      },
      "source": [
        "A = np.random.randint(0,10, (3,3,3,3))\n",
        "sum = A.reshape(A.shape[:-2] + (-1,)).sum(axis=-1)\n",
        "print (A)\n",
        "print(sum)"
      ],
      "execution_count": 45,
      "outputs": [
        {
          "output_type": "stream",
          "text": [
            "[[[[1 7 6]\n",
            "   [5 7 9]\n",
            "   [7 1 7]]\n",
            "\n",
            "  [[2 2 1]\n",
            "   [8 8 4]\n",
            "   [7 4 1]]\n",
            "\n",
            "  [[1 3 0]\n",
            "   [5 0 0]\n",
            "   [2 2 8]]]\n",
            "\n",
            "\n",
            " [[[9 5 5]\n",
            "   [7 9 4]\n",
            "   [1 8 1]]\n",
            "\n",
            "  [[3 4 0]\n",
            "   [5 8 1]\n",
            "   [4 7 2]]\n",
            "\n",
            "  [[8 2 8]\n",
            "   [6 2 4]\n",
            "   [6 9 8]]]\n",
            "\n",
            "\n",
            " [[[1 2 5]\n",
            "   [1 6 0]\n",
            "   [4 4 9]]\n",
            "\n",
            "  [[0 3 0]\n",
            "   [6 1 3]\n",
            "   [8 2 3]]\n",
            "\n",
            "  [[0 4 3]\n",
            "   [4 4 8]\n",
            "   [2 1 2]]]]\n",
            "[[50 37 21]\n",
            " [49 34 53]\n",
            " [32 26 28]]\n"
          ],
          "name": "stdout"
        }
      ]
    },
    {
      "cell_type": "markdown",
      "metadata": {
        "id": "CTk8vkoFqXcj"
      },
      "source": [
        "29.Найти диагональные элементы произведения матриц"
      ]
    },
    {
      "cell_type": "code",
      "metadata": {
        "colab": {
          "base_uri": "https://localhost:8080/"
        },
        "id": "_aAMNIF1qYbz",
        "outputId": "6247a47a-8553-40c0-e6f1-e5fef03e2cec"
      },
      "source": [
        "a = np.random.randint(0,10,(3,3))\n",
        "b = np.random.randint(0,10,(3,3))\n",
        "np.diag(np.dot(a, b))"
      ],
      "execution_count": 40,
      "outputs": [
        {
          "output_type": "execute_result",
          "data": {
            "text/plain": [
              "array([50, 54, 80])"
            ]
          },
          "metadata": {
            "tags": []
          },
          "execution_count": 40
        }
      ]
    }
  ]
}
