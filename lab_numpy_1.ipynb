{
  "nbformat": 4,
  "nbformat_minor": 0,
  "metadata": {
    "kernelspec": {
      "display_name": "Python 3",
      "language": "python",
      "name": "python3"
    },
    "language_info": {
      "codemirror_mode": {
        "name": "ipython",
        "version": 3
      },
      "file_extension": ".py",
      "mimetype": "text/x-python",
      "name": "python",
      "nbconvert_exporter": "python",
      "pygments_lexer": "ipython3",
      "version": "3.6.11"
    },
    "colab": {
      "name": "lab_numpy_1.ipynb",
      "provenance": [],
      "collapsed_sections": []
    }
  },
  "cells": [
    {
      "cell_type": "markdown",
      "metadata": {
        "id": "d8wkDq73DkEU"
      },
      "source": [
        "# Московский авиационный институт (Национальный исследовательский университет)\r\n",
        "## Лабораторная работа №4\r\n",
        "## \"Pandas\"\r\n",
        "### Выполнила: студентка группы Т12О-101М-20\r\n",
        "### Лёдова Кристина Владимировна\r\n",
        "### Преподаватель: Поповкин Александр Викторович\r\n",
        "### Москва\r\n",
        "### 2020 г."
      ]
    },
    {
      "cell_type": "markdown",
      "metadata": {
        "id": "z_EU6VN5DyTl"
      },
      "source": [
        "1.Импортитровать Numpy под именем np"
      ]
    },
    {
      "cell_type": "code",
      "metadata": {
        "id": "SP1mpmk5D6LC"
      },
      "source": [
        "import numpy as np\n"
      ],
      "execution_count": null,
      "outputs": []
    },
    {
      "cell_type": "markdown",
      "metadata": {
        "id": "47kZE3xdECaR"
      },
      "source": [
        "2.Напечатать версию и конфигурацию"
      ]
    },
    {
      "cell_type": "code",
      "metadata": {
        "id": "5Dce3kpwEG_m",
        "colab": {
          "base_uri": "https://localhost:8080/"
        },
        "outputId": "66e0b07f-90c9-42db-f088-676955c0718c"
      },
      "source": [
        "print(np.__version__)\n",
        "np.show_config()"
      ],
      "execution_count": null,
      "outputs": [
        {
          "output_type": "stream",
          "text": [
            "1.18.5\n",
            "blas_mkl_info:\n",
            "  NOT AVAILABLE\n",
            "blis_info:\n",
            "  NOT AVAILABLE\n",
            "openblas_info:\n",
            "    libraries = ['openblas', 'openblas']\n",
            "    library_dirs = ['/usr/local/lib']\n",
            "    language = c\n",
            "    define_macros = [('HAVE_CBLAS', None)]\n",
            "blas_opt_info:\n",
            "    libraries = ['openblas', 'openblas']\n",
            "    library_dirs = ['/usr/local/lib']\n",
            "    language = c\n",
            "    define_macros = [('HAVE_CBLAS', None)]\n",
            "lapack_mkl_info:\n",
            "  NOT AVAILABLE\n",
            "openblas_lapack_info:\n",
            "    libraries = ['openblas', 'openblas']\n",
            "    library_dirs = ['/usr/local/lib']\n",
            "    language = c\n",
            "    define_macros = [('HAVE_CBLAS', None)]\n",
            "lapack_opt_info:\n",
            "    libraries = ['openblas', 'openblas']\n",
            "    library_dirs = ['/usr/local/lib']\n",
            "    language = c\n",
            "    define_macros = [('HAVE_CBLAS', None)]\n"
          ],
          "name": "stdout"
        }
      ]
    },
    {
      "cell_type": "markdown",
      "metadata": {
        "id": "prscG8rTEUiF"
      },
      "source": [
        "3.Создать вектор (одномерный массив) размера 10, заполненный нулями"
      ]
    },
    {
      "cell_type": "code",
      "metadata": {
        "id": "DRy_UqdYEXzf",
        "colab": {
          "base_uri": "https://localhost:8080/"
        },
        "outputId": "dea7e669-eb47-459b-e94a-2bce8c9d5c6a"
      },
      "source": [
        "np.zeros(10)"
      ],
      "execution_count": null,
      "outputs": [
        {
          "output_type": "execute_result",
          "data": {
            "text/plain": [
              "array([0., 0., 0., 0., 0., 0., 0., 0., 0., 0.])"
            ]
          },
          "metadata": {
            "tags": []
          },
          "execution_count": 6
        }
      ]
    },
    {
      "cell_type": "markdown",
      "metadata": {
        "id": "UU-gXSt6Eit0"
      },
      "source": [
        "4.Создать вектор размера 10, заполненный единицами"
      ]
    },
    {
      "cell_type": "code",
      "metadata": {
        "id": "57UOFzCUEjdZ",
        "colab": {
          "base_uri": "https://localhost:8080/"
        },
        "outputId": "59be589f-a9f1-4e6a-cd6b-b050ea6da944"
      },
      "source": [
        "np.ones(10)"
      ],
      "execution_count": null,
      "outputs": [
        {
          "output_type": "execute_result",
          "data": {
            "text/plain": [
              "array([1., 1., 1., 1., 1., 1., 1., 1., 1., 1.])"
            ]
          },
          "metadata": {
            "tags": []
          },
          "execution_count": 7
        }
      ]
    },
    {
      "cell_type": "markdown",
      "metadata": {
        "id": "ay7hUfKhEnGP"
      },
      "source": [
        "5.Создать вектор размера 10, заполненный числом 2.5"
      ]
    },
    {
      "cell_type": "code",
      "metadata": {
        "id": "HnYPYd2rEpej",
        "colab": {
          "base_uri": "https://localhost:8080/"
        },
        "outputId": "8b7501b0-ab04-4a05-a286-da656a75f3e0"
      },
      "source": [
        "np.full(10, 2.5)"
      ],
      "execution_count": null,
      "outputs": [
        {
          "output_type": "execute_result",
          "data": {
            "text/plain": [
              "array([2.5, 2.5, 2.5, 2.5, 2.5, 2.5, 2.5, 2.5, 2.5, 2.5])"
            ]
          },
          "metadata": {
            "tags": []
          },
          "execution_count": 8
        }
      ]
    },
    {
      "cell_type": "markdown",
      "metadata": {
        "id": "meYIejC1Es7N"
      },
      "source": [
        "6.Как получить документацию о функции numpy.add из командной строки?"
      ]
    },
    {
      "cell_type": "markdown",
      "metadata": {
        "id": "sna9_nxMHyYk"
      },
      "source": [
        "С помощью help(np.add)"
      ]
    },
    {
      "cell_type": "markdown",
      "metadata": {
        "id": "seFy_piyFD6C"
      },
      "source": [
        "7.Создать вектор размера 10, заполненный нулями, но пятый элемент равен 1"
      ]
    },
    {
      "cell_type": "code",
      "metadata": {
        "id": "NrmjZhZGFHGC",
        "colab": {
          "base_uri": "https://localhost:8080/"
        },
        "outputId": "cf13138e-6ab4-4e18-eccf-81531aab7fc1"
      },
      "source": [
        "arr = np.zeros(10)\n",
        "arr[4] = 1\n",
        "arr"
      ],
      "execution_count": null,
      "outputs": [
        {
          "output_type": "execute_result",
          "data": {
            "text/plain": [
              "array([0., 0., 0., 0., 1., 0., 0., 0., 0., 0.])"
            ]
          },
          "metadata": {
            "tags": []
          },
          "execution_count": 10
        }
      ]
    },
    {
      "cell_type": "markdown",
      "metadata": {
        "id": "v5HZgdevFKuZ"
      },
      "source": [
        "8.Создать вектор со значениями от 10 до 49"
      ]
    },
    {
      "cell_type": "code",
      "metadata": {
        "id": "Kosuz8H4FN9G",
        "colab": {
          "base_uri": "https://localhost:8080/"
        },
        "outputId": "1b530c9e-96fd-4198-ec19-4f30b770db9b"
      },
      "source": [
        "np.arange(10,50,1)"
      ],
      "execution_count": null,
      "outputs": [
        {
          "output_type": "execute_result",
          "data": {
            "text/plain": [
              "array([10, 11, 12, 13, 14, 15, 16, 17, 18, 19, 20, 21, 22, 23, 24, 25, 26,\n",
              "       27, 28, 29, 30, 31, 32, 33, 34, 35, 36, 37, 38, 39, 40, 41, 42, 43,\n",
              "       44, 45, 46, 47, 48, 49])"
            ]
          },
          "metadata": {
            "tags": []
          },
          "execution_count": 11
        }
      ]
    },
    {
      "cell_type": "markdown",
      "metadata": {
        "id": "B0yYFfJQFRMo"
      },
      "source": [
        "9.Развернуть вектор (первый становится последним)"
      ]
    },
    {
      "cell_type": "code",
      "metadata": {
        "id": "csBr3CGrFUqr",
        "colab": {
          "base_uri": "https://localhost:8080/"
        },
        "outputId": "e97def0f-798a-4fcf-c1e2-c711e1984fe3"
      },
      "source": [
        "np.arange(10,50)[::-1]"
      ],
      "execution_count": null,
      "outputs": [
        {
          "output_type": "execute_result",
          "data": {
            "text/plain": [
              "array([49, 48, 47, 46, 45, 44, 43, 42, 41, 40, 39, 38, 37, 36, 35, 34, 33,\n",
              "       32, 31, 30, 29, 28, 27, 26, 25, 24, 23, 22, 21, 20, 19, 18, 17, 16,\n",
              "       15, 14, 13, 12, 11, 10])"
            ]
          },
          "metadata": {
            "tags": []
          },
          "execution_count": 12
        }
      ]
    },
    {
      "cell_type": "markdown",
      "metadata": {
        "id": "Y5B5rKouFaT6"
      },
      "source": [
        "10.Создать матрицу (двумерный массив) 3x3 со значениями от 0 до 8"
      ]
    },
    {
      "cell_type": "code",
      "metadata": {
        "id": "zl-6DfCxGefL",
        "colab": {
          "base_uri": "https://localhost:8080/"
        },
        "outputId": "4e4954d7-093d-44f9-9745-00aa46c64030"
      },
      "source": [
        "np.arange(9).reshape(3, 3)"
      ],
      "execution_count": null,
      "outputs": [
        {
          "output_type": "execute_result",
          "data": {
            "text/plain": [
              "array([[0, 1, 2],\n",
              "       [3, 4, 5],\n",
              "       [6, 7, 8]])"
            ]
          },
          "metadata": {
            "tags": []
          },
          "execution_count": 13
        }
      ]
    },
    {
      "cell_type": "markdown",
      "metadata": {
        "id": "wDFC_T6xGhVs"
      },
      "source": [
        "11.Найти индексы ненулевых элементов в [1,2,0,0,4,0]"
      ]
    },
    {
      "cell_type": "code",
      "metadata": {
        "id": "jhlbs_6qGjqX",
        "colab": {
          "base_uri": "https://localhost:8080/"
        },
        "outputId": "cf57d998-f143-4de2-d340-7144f18a226c"
      },
      "source": [
        "a = np.array([1,2,0,0,4,0])\n",
        "a.nonzero()"
      ],
      "execution_count": null,
      "outputs": [
        {
          "output_type": "execute_result",
          "data": {
            "text/plain": [
              "(array([0, 1, 4]),)"
            ]
          },
          "metadata": {
            "tags": []
          },
          "execution_count": 14
        }
      ]
    },
    {
      "cell_type": "markdown",
      "metadata": {
        "id": "Y_C6Z_pjGndT"
      },
      "source": [
        "12.Создать массив 3x3x3 со случайными значениями"
      ]
    },
    {
      "cell_type": "code",
      "metadata": {
        "id": "F2jKHXxTGpjR",
        "colab": {
          "base_uri": "https://localhost:8080/"
        },
        "outputId": "0dde6606-82f7-4a0b-818d-f71cfd840dc4"
      },
      "source": [
        "np.random.random((3,3,3))"
      ],
      "execution_count": null,
      "outputs": [
        {
          "output_type": "execute_result",
          "data": {
            "text/plain": [
              "array([[[0.01647597, 0.91211779, 0.8394339 ],\n",
              "        [0.89965653, 0.22816908, 0.27880282],\n",
              "        [0.24239585, 0.75300015, 0.23286669]],\n",
              "\n",
              "       [[0.45031639, 0.61801038, 0.22912274],\n",
              "        [0.43933303, 0.9711773 , 0.18473938],\n",
              "        [0.72159566, 0.92391717, 0.61729497]],\n",
              "\n",
              "       [[0.65384194, 0.54848369, 0.12813303],\n",
              "        [0.17200768, 0.3197589 , 0.83802338],\n",
              "        [0.2732729 , 0.63346708, 0.49350199]]])"
            ]
          },
          "metadata": {
            "tags": []
          },
          "execution_count": 15
        }
      ]
    },
    {
      "cell_type": "markdown",
      "metadata": {
        "id": "D9IdRQ1nGscL"
      },
      "source": [
        "13.Создать массив 10x10 со случайными значениями, найти минимум и максимум"
      ]
    },
    {
      "cell_type": "code",
      "metadata": {
        "id": "gFcu9JCRGvCq",
        "colab": {
          "base_uri": "https://localhost:8080/"
        },
        "outputId": "8cc109b8-f16d-4d8e-e134-607b65420632"
      },
      "source": [
        "arr = np.random.random((10,10))\n",
        "print (arr)\n",
        "print('min = ' + str(arr.min()), 'max = ' + str(arr.max()), sep = '\\n')"
      ],
      "execution_count": null,
      "outputs": [
        {
          "output_type": "stream",
          "text": [
            "[[0.35837715 0.50615275 0.93325629 0.17431613 0.35337932 0.34476283\n",
            "  0.8652905  0.15143126 0.55374018 0.61250193]\n",
            " [0.26798189 0.46587486 0.43894437 0.74180778 0.25664421 0.20195461\n",
            "  0.92771172 0.84480201 0.55806951 0.28096984]\n",
            " [0.22488111 0.96355402 0.33146813 0.31133611 0.14538736 0.94988858\n",
            "  0.23527088 0.69581944 0.90006209 0.38536426]\n",
            " [0.08126996 0.54255295 0.17184955 0.40540924 0.05701531 0.48301059\n",
            "  0.6722511  0.07639806 0.99921946 0.532997  ]\n",
            " [0.46358511 0.14305861 0.95216948 0.80717305 0.18417056 0.93968055\n",
            "  0.85401034 0.1950101  0.59334473 0.53936051]\n",
            " [0.73679312 0.72162288 0.16360323 0.80194439 0.76813622 0.56789868\n",
            "  0.16691726 0.01434267 0.03822566 0.08184988]\n",
            " [0.57531365 0.65015723 0.63260392 0.37295937 0.96265292 0.57971214\n",
            "  0.70863172 0.02973973 0.84780648 0.94445919]\n",
            " [0.66945494 0.55237786 0.65294375 0.82329442 0.51010808 0.18771206\n",
            "  0.20351226 0.63902509 0.39274673 0.50087011]\n",
            " [0.40428217 0.99984727 0.93648701 0.67349082 0.05511718 0.65648746\n",
            "  0.77503133 0.51458557 0.93321516 0.41412304]\n",
            " [0.82927132 0.29226237 0.05636646 0.81803811 0.79947135 0.20904034\n",
            "  0.02168224 0.05546278 0.74301591 0.71680982]]\n",
            "min = 0.014342668821573201\n",
            "max = 0.9998472675591333\n"
          ],
          "name": "stdout"
        }
      ]
    },
    {
      "cell_type": "markdown",
      "metadata": {
        "id": "rVGEw5vgG3Gz"
      },
      "source": [
        "14.Создать случайный вектор размера 30 и найти среднее значение всех элементов"
      ]
    },
    {
      "cell_type": "code",
      "metadata": {
        "id": "xo0nE5kGG30D",
        "colab": {
          "base_uri": "https://localhost:8080/"
        },
        "outputId": "e85cb98f-42ee-4a80-84cc-755dff9c018e"
      },
      "source": [
        "arr = np.random.random(30)\n",
        "print (arr)\n",
        "print(np.average(arr))"
      ],
      "execution_count": null,
      "outputs": [
        {
          "output_type": "stream",
          "text": [
            "[0.35232012 0.4497428  0.25936906 0.5941423  0.22718914 0.13834414\n",
            " 0.22755639 0.99560596 0.90152589 0.55777472 0.91031549 0.59256257\n",
            " 0.9532081  0.5976297  0.65605673 0.75781358 0.25403022 0.44810919\n",
            " 0.58609873 0.98946837 0.81508745 0.21750467 0.8641204  0.30204835\n",
            " 0.23455104 0.64638892 0.67271102 0.55547762 0.27134915 0.85859825]\n",
            "0.5628900016124466\n"
          ],
          "name": "stdout"
        }
      ]
    },
    {
      "cell_type": "markdown",
      "metadata": {
        "id": "_dS47mKMIDtn"
      },
      "source": [
        "15.Создать матрицу с 0 внутри, и 1 на границах"
      ]
    },
    {
      "cell_type": "code",
      "metadata": {
        "id": "99NNklDMIHBP",
        "colab": {
          "base_uri": "https://localhost:8080/"
        },
        "outputId": "093d030d-a6a2-4b8d-95fc-3bfba6913c45"
      },
      "source": [
        "arr = np.ones((10,10))\n",
        "arr[1:-1,1:-1] = 0\n",
        "arr"
      ],
      "execution_count": null,
      "outputs": [
        {
          "output_type": "execute_result",
          "data": {
            "text/plain": [
              "array([[1., 1., 1., 1., 1., 1., 1., 1., 1., 1.],\n",
              "       [1., 0., 0., 0., 0., 0., 0., 0., 0., 1.],\n",
              "       [1., 0., 0., 0., 0., 0., 0., 0., 0., 1.],\n",
              "       [1., 0., 0., 0., 0., 0., 0., 0., 0., 1.],\n",
              "       [1., 0., 0., 0., 0., 0., 0., 0., 0., 1.],\n",
              "       [1., 0., 0., 0., 0., 0., 0., 0., 0., 1.],\n",
              "       [1., 0., 0., 0., 0., 0., 0., 0., 0., 1.],\n",
              "       [1., 0., 0., 0., 0., 0., 0., 0., 0., 1.],\n",
              "       [1., 0., 0., 0., 0., 0., 0., 0., 0., 1.],\n",
              "       [1., 1., 1., 1., 1., 1., 1., 1., 1., 1.]])"
            ]
          },
          "metadata": {
            "tags": []
          },
          "execution_count": 23
        }
      ]
    },
    {
      "cell_type": "markdown",
      "metadata": {
        "id": "PfYKsw3fINCk"
      },
      "source": [
        "16.Выяснить результат следующих выражений\n",
        "0 * np.nan\n",
        "\n",
        "np.nan == np.nan\n",
        "\n",
        "np.inf > np.nan\n",
        "\n",
        "np.nan - np.nan"
      ]
    },
    {
      "cell_type": "code",
      "metadata": {
        "id": "mEXw-2y1IQud",
        "colab": {
          "base_uri": "https://localhost:8080/"
        },
        "outputId": "6a967b15-fc98-4c00-9096-51133a28fbb4"
      },
      "source": [
        "0 * np.nan"
      ],
      "execution_count": null,
      "outputs": [
        {
          "output_type": "execute_result",
          "data": {
            "text/plain": [
              "nan"
            ]
          },
          "metadata": {
            "tags": []
          },
          "execution_count": 25
        }
      ]
    },
    {
      "cell_type": "code",
      "metadata": {
        "id": "40CQ5TVTIbdX",
        "colab": {
          "base_uri": "https://localhost:8080/"
        },
        "outputId": "96480bb5-1fc2-475e-95c8-14ed20507710"
      },
      "source": [
        "np.nan == np.nan"
      ],
      "execution_count": null,
      "outputs": [
        {
          "output_type": "execute_result",
          "data": {
            "text/plain": [
              "False"
            ]
          },
          "metadata": {
            "tags": []
          },
          "execution_count": 26
        }
      ]
    },
    {
      "cell_type": "code",
      "metadata": {
        "id": "Fn2hZdV6If6_",
        "colab": {
          "base_uri": "https://localhost:8080/"
        },
        "outputId": "22a3f04f-5228-4599-f9ee-0825775bf698"
      },
      "source": [
        "np.inf > np.nan"
      ],
      "execution_count": null,
      "outputs": [
        {
          "output_type": "execute_result",
          "data": {
            "text/plain": [
              "False"
            ]
          },
          "metadata": {
            "tags": []
          },
          "execution_count": 30
        }
      ]
    },
    {
      "cell_type": "code",
      "metadata": {
        "id": "_68YPqAeImAx",
        "colab": {
          "base_uri": "https://localhost:8080/"
        },
        "outputId": "3d42918e-8618-4626-db18-65e7f4f1e0f4"
      },
      "source": [
        "np.nan - np.nan"
      ],
      "execution_count": null,
      "outputs": [
        {
          "output_type": "execute_result",
          "data": {
            "text/plain": [
              "nan"
            ]
          },
          "metadata": {
            "tags": []
          },
          "execution_count": 28
        }
      ]
    },
    {
      "cell_type": "markdown",
      "metadata": {
        "id": "Q-2q5iclIwaK"
      },
      "source": [
        "17.Создать 5x5 матрицу с 1,2,3,4 под диагональю"
      ]
    },
    {
      "cell_type": "code",
      "metadata": {
        "id": "zkGuX5nYIxOE",
        "colab": {
          "base_uri": "https://localhost:8080/"
        },
        "outputId": "b8056f68-c934-404c-a144-3f0f862b9425"
      },
      "source": [
        "np.diag(np.arange(1,5), k=-1)"
      ],
      "execution_count": null,
      "outputs": [
        {
          "output_type": "execute_result",
          "data": {
            "text/plain": [
              "array([[0, 0, 0, 0, 0],\n",
              "       [1, 0, 0, 0, 0],\n",
              "       [0, 2, 0, 0, 0],\n",
              "       [0, 0, 3, 0, 0],\n",
              "       [0, 0, 0, 4, 0]])"
            ]
          },
          "metadata": {
            "tags": []
          },
          "execution_count": 31
        }
      ]
    },
    {
      "cell_type": "markdown",
      "metadata": {
        "id": "UCO8q5bzI00j"
      },
      "source": [
        "18.Создать 8x8 матрицу и заполнить её в шахматном порядке"
      ]
    },
    {
      "cell_type": "code",
      "metadata": {
        "id": "pWh0BJS0I26t",
        "colab": {
          "base_uri": "https://localhost:8080/"
        },
        "outputId": "5916b17b-5dd1-4bfa-a44d-a881dea9528e"
      },
      "source": [
        "arr = np.zeros((8,8))\n",
        "arr[::2,::2] = 1\n",
        "arr[1::2,1::2] = 1\n",
        "arr"
      ],
      "execution_count": null,
      "outputs": [
        {
          "output_type": "execute_result",
          "data": {
            "text/plain": [
              "array([[1., 0., 1., 0., 1., 0., 1., 0.],\n",
              "       [0., 1., 0., 1., 0., 1., 0., 1.],\n",
              "       [1., 0., 1., 0., 1., 0., 1., 0.],\n",
              "       [0., 1., 0., 1., 0., 1., 0., 1.],\n",
              "       [1., 0., 1., 0., 1., 0., 1., 0.],\n",
              "       [0., 1., 0., 1., 0., 1., 0., 1.],\n",
              "       [1., 0., 1., 0., 1., 0., 1., 0.],\n",
              "       [0., 1., 0., 1., 0., 1., 0., 1.]])"
            ]
          },
          "metadata": {
            "tags": []
          },
          "execution_count": 32
        }
      ]
    },
    {
      "cell_type": "markdown",
      "metadata": {
        "id": "GodfNuQOI6cE"
      },
      "source": [
        "19.Дан массив размерности (6,7,8). Каков индекс (x,y,z) сотого элемента?"
      ]
    },
    {
      "cell_type": "code",
      "metadata": {
        "id": "j3Hz20f7I8wb",
        "colab": {
          "base_uri": "https://localhost:8080/"
        },
        "outputId": "20afd29c-c392-4062-aeee-717093d92219"
      },
      "source": [
        "np.unravel_index(100,(6,7,8))"
      ],
      "execution_count": null,
      "outputs": [
        {
          "output_type": "execute_result",
          "data": {
            "text/plain": [
              "(1, 5, 4)"
            ]
          },
          "metadata": {
            "tags": []
          },
          "execution_count": 33
        }
      ]
    },
    {
      "cell_type": "markdown",
      "metadata": {
        "id": "zJ1-w_OcJEyP"
      },
      "source": [
        "20.Создать 8x8 матрицу и заполнить её в шахматном порядке, используя функцию tile"
      ]
    },
    {
      "cell_type": "code",
      "metadata": {
        "id": "7a5_6L_6JFcL",
        "colab": {
          "base_uri": "https://localhost:8080/"
        },
        "outputId": "57aa56bb-3ed1-458f-dfcc-d51fbd60a71e"
      },
      "source": [
        "inp = np.array([1,0,0,1]).reshape((2,2))\n",
        "np.tile(inp,(4,4))"
      ],
      "execution_count": null,
      "outputs": [
        {
          "output_type": "execute_result",
          "data": {
            "text/plain": [
              "array([[1, 0, 1, 0, 1, 0, 1, 0],\n",
              "       [0, 1, 0, 1, 0, 1, 0, 1],\n",
              "       [1, 0, 1, 0, 1, 0, 1, 0],\n",
              "       [0, 1, 0, 1, 0, 1, 0, 1],\n",
              "       [1, 0, 1, 0, 1, 0, 1, 0],\n",
              "       [0, 1, 0, 1, 0, 1, 0, 1],\n",
              "       [1, 0, 1, 0, 1, 0, 1, 0],\n",
              "       [0, 1, 0, 1, 0, 1, 0, 1]])"
            ]
          },
          "metadata": {
            "tags": []
          },
          "execution_count": 34
        }
      ]
    }
  ]
}