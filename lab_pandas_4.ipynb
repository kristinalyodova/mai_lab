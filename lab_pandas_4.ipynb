{
  "nbformat": 4,
  "nbformat_minor": 0,
  "metadata": {
    "colab": {
      "name": "lab_pandas_4.ipynb",
      "provenance": []
    },
    "kernelspec": {
      "name": "python3",
      "display_name": "Python 3"
    }
  },
  "cells": [
    {
      "cell_type": "markdown",
      "metadata": {
        "id": "ab01eXsulGvD"
      },
      "source": [
        "# Московский авиационный институт (Национальный исследовательский университет)\r\n",
        "## Лабораторная работа №4\r\n",
        "## \"Pandas\"\r\n",
        "### Выполнила: студентка группы Т12О-101М-20\r\n",
        "### Лёдова Кристина Владимировна\r\n",
        "### Преподаватель: Поповкин Александр Викторович\r\n",
        "### Москва\r\n",
        "### 2020 г."
      ]
    },
    {
      "cell_type": "markdown",
      "metadata": {
        "id": "zDAsuSDilPMP"
      },
      "source": [
        "Импортировать модули sys numpy pandas"
      ]
    },
    {
      "cell_type": "code",
      "metadata": {
        "id": "5SfYyjyGnQcr"
      },
      "source": [
        "import sys\n",
        "import numpy as np\n",
        "import pandas as pd\n",
        "from pandas import Series, DataFrame"
      ],
      "execution_count": null,
      "outputs": []
    },
    {
      "cell_type": "markdown",
      "metadata": {
        "id": "gy_FcpZalehY"
      },
      "source": [
        "1.Создать объект pandas Series из листа, объекта NumPy и словаря\n",
        "\n"
      ]
    },
    {
      "cell_type": "code",
      "metadata": {
        "colab": {
          "base_uri": "https://localhost:8080/"
        },
        "id": "DIvHJFeennmP",
        "outputId": "cad40c3f-a873-4f80-b69f-3f423b0cc349"
      },
      "source": [
        "lis = [1, 2, 3, 4]\n",
        "dic = {'five': 5, 'six': 6, 'seven': 7}\n",
        "arr = np.zeros(3)\n",
        "lis_s = Series(lis)\n",
        "dic_s = Series(dic)\n",
        "arr_s = Series(arr)\n",
        "\n",
        "print(lis_s, '\\n')\n",
        "print(dic_s, '\\n')\n",
        "print(arr_s)"
      ],
      "execution_count": null,
      "outputs": [
        {
          "output_type": "stream",
          "text": [
            "0    1\n",
            "1    2\n",
            "2    3\n",
            "3    4\n",
            "dtype: int64 \n",
            "\n",
            "five     5\n",
            "six      6\n",
            "seven    7\n",
            "dtype: int64 \n",
            "\n",
            "0    0.0\n",
            "1    0.0\n",
            "2    0.0\n",
            "dtype: float64\n"
          ],
          "name": "stdout"
        }
      ]
    },
    {
      "cell_type": "markdown",
      "metadata": {
        "id": "quIpRaz_ll7M"
      },
      "source": [
        "2.Преобразовать объект Series в DataFrame"
      ]
    },
    {
      "cell_type": "code",
      "metadata": {
        "colab": {
          "base_uri": "https://localhost:8080/"
        },
        "id": "IC5j4Ebhp11c",
        "outputId": "0e611668-3955-46d6-ea7b-a95f9348baeb"
      },
      "source": [
        "dic_df = DataFrame(dic_s, columns=['numbers'])\n",
        "print(dic_df)"
      ],
      "execution_count": null,
      "outputs": [
        {
          "output_type": "stream",
          "text": [
            "       numbers\n",
            "five         5\n",
            "six          6\n",
            "seven        7\n"
          ],
          "name": "stdout"
        }
      ]
    },
    {
      "cell_type": "markdown",
      "metadata": {
        "id": "1dZTJmlNlr8B"
      },
      "source": [
        "3.Создать объект Series, преобразовать в DataFrame"
      ]
    },
    {
      "cell_type": "code",
      "metadata": {
        "colab": {
          "base_uri": "https://localhost:8080/"
        },
        "id": "xkvWVqC5qO04",
        "outputId": "a7df84d4-5d2a-414e-cbb3-918a5c0415be"
      },
      "source": [
        "s = Series({'vegetable': 'tomato', 'fruit': 'apple', 'berry': 'watermelon'})\n",
        "s_df = DataFrame(s, columns=['food'])\n",
        "print(s_df)"
      ],
      "execution_count": null,
      "outputs": [
        {
          "output_type": "stream",
          "text": [
            "                 food\n",
            "vegetable      tomato\n",
            "fruit           apple\n",
            "berry      watermelon\n"
          ],
          "name": "stdout"
        }
      ]
    },
    {
      "cell_type": "markdown",
      "metadata": {
        "id": "XhoninnNlzWa"
      },
      "source": [
        "4.Объединить несколько объектов Series в Dataframe\n"
      ]
    },
    {
      "cell_type": "code",
      "metadata": {
        "colab": {
          "base_uri": "https://localhost:8080/"
        },
        "id": "x9km8JmdrPxR",
        "outputId": "c3087e28-0292-418f-88a0-4ef278d20d89"
      },
      "source": [
        "s1 = Series(['red','green','black'])\n",
        "s2 = Series([1,2,3])\n",
        "s_df = DataFrame(dict(s1 = s1, s2 = s2))\n",
        "print(s_df)"
      ],
      "execution_count": null,
      "outputs": [
        {
          "output_type": "stream",
          "text": [
            "      s1  s2\n",
            "0    red   1\n",
            "1  green   2\n",
            "2  black   3\n"
          ],
          "name": "stdout"
        }
      ]
    },
    {
      "cell_type": "markdown",
      "metadata": {
        "id": "Qf0hRNtfl4rw"
      },
      "source": [
        "5.Присвоить имя индексу объекта Series"
      ]
    },
    {
      "cell_type": "code",
      "metadata": {
        "colab": {
          "base_uri": "https://localhost:8080/"
        },
        "id": "i8y0vT_crqMO",
        "outputId": "02cb53e3-8675-48ec-8078-5c1c9b295bd5"
      },
      "source": [
        "s = pd.Series({'one': 1, 'two': 2, 'three': 3})\n",
        "s.name = 'new_name'\n",
        "print(s)"
      ],
      "execution_count": null,
      "outputs": [
        {
          "output_type": "stream",
          "text": [
            "one      1\n",
            "two      2\n",
            "three    3\n",
            "Name: new_name, dtype: int64\n"
          ],
          "name": "stdout"
        }
      ]
    },
    {
      "cell_type": "markdown",
      "metadata": {
        "id": "gbxYPjirl9N2"
      },
      "source": [
        "6.Получить элементы объекта Series A, которых нет в объекте Series B. Возвратить значения вместе с индексами\n"
      ]
    },
    {
      "cell_type": "code",
      "metadata": {
        "colab": {
          "base_uri": "https://localhost:8080/"
        },
        "id": "CgZ0Frqyu5wm",
        "outputId": "a49cbb48-16fd-47b9-de10-e80e0fbd127a"
      },
      "source": [
        "a = pd.Series([1, 2, 3, 4, 5])\n",
        "b = pd.Series([2, 4, 6, 8, 10])\n",
        "\n",
        "c= a[~a.isin(b)] #возврат c индексами\n",
        "print(c, '\\n')\n",
        "\n",
        "d = np.setdiff1d(a, b, assume_unique=False) #возврат значений\n",
        "print(d)"
      ],
      "execution_count": null,
      "outputs": [
        {
          "output_type": "stream",
          "text": [
            "0    1\n",
            "2    3\n",
            "4    5\n",
            "dtype: int64 \n",
            "\n",
            "[1 3 5]\n"
          ],
          "name": "stdout"
        }
      ]
    },
    {
      "cell_type": "markdown",
      "metadata": {
        "id": "QADB-Y7VmTiG"
      },
      "source": [
        "7.Получить объединенный Series без повторений"
      ]
    },
    {
      "cell_type": "code",
      "metadata": {
        "colab": {
          "base_uri": "https://localhost:8080/"
        },
        "id": "EXJDebxZxSbj",
        "outputId": "7018429e-6638-484a-cd44-610309336807"
      },
      "source": [
        "a = pd.Series([1, 2, 3, 4, 5])\n",
        "b = pd.Series([2, 4, 6, 8, 10])\n",
        "\n",
        "union = pd.Series(np.union1d(a, b))\n",
        "print(union)"
      ],
      "execution_count": null,
      "outputs": [
        {
          "output_type": "stream",
          "text": [
            "0     1\n",
            "1     2\n",
            "2     3\n",
            "3     4\n",
            "4     5\n",
            "5     6\n",
            "6     8\n",
            "7    10\n",
            "dtype: int64\n"
          ],
          "name": "stdout"
        }
      ]
    },
    {
      "cell_type": "markdown",
      "metadata": {
        "id": "d01hyYpBmcqE"
      },
      "source": [
        "8.Получить пересекающиеся данные"
      ]
    },
    {
      "cell_type": "code",
      "metadata": {
        "colab": {
          "base_uri": "https://localhost:8080/"
        },
        "id": "ox7n3opnxuQX",
        "outputId": "8e670a39-2d0c-4c1a-e6ef-b0528be7ca04"
      },
      "source": [
        "a = pd.Series([1, 2, 3, 4, 5])\n",
        "b = pd.Series([2, 4, 6, 8, 10])\n",
        "\n",
        "intersection = pd.Series(np.intersect1d(a, b))\n",
        "print(intersection)"
      ],
      "execution_count": null,
      "outputs": [
        {
          "output_type": "stream",
          "text": [
            "0    2\n",
            "1    4\n",
            "dtype: int64\n"
          ],
          "name": "stdout"
        }
      ]
    },
    {
      "cell_type": "markdown",
      "metadata": {
        "id": "oSa6lTUNmjlm"
      },
      "source": [
        "9.Отобрать все данные, кроме пересекающихся. Возвратить значения"
      ]
    },
    {
      "cell_type": "code",
      "metadata": {
        "colab": {
          "base_uri": "https://localhost:8080/"
        },
        "id": "Xdr3k0bjyJvO",
        "outputId": "c5a9facf-0eab-4848-a189-1bdec4b67c1b"
      },
      "source": [
        "a = pd.Series([1, 2, 3, 4, 5])\n",
        "b = pd.Series([2, 4, 6, 8, 10])\n",
        "\n",
        "c = union[~union.isin(intersection)]\n",
        "print(c,'\\n')\n",
        "\n",
        "d = np.setxor1d(a, b, assume_unique=False) #возврат значений\n",
        "print(d)"
      ],
      "execution_count": null,
      "outputs": [
        {
          "output_type": "stream",
          "text": [
            "0     1\n",
            "2     3\n",
            "4     5\n",
            "5     6\n",
            "6     8\n",
            "7    10\n",
            "dtype: int64 \n",
            "\n",
            "[ 1  3  5  6  8 10]\n"
          ],
          "name": "stdout"
        }
      ]
    }
  ]
}